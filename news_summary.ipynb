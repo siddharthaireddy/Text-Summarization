{
  "nbformat": 4,
  "nbformat_minor": 0,
  "metadata": {
    "colab": {
      "name": "news summary.ipynb",
      "provenance": [],
      "collapsed_sections": []
    },
    "kernelspec": {
      "name": "python3",
      "display_name": "Python 3"
    }
  },
  "cells": [
    {
      "cell_type": "code",
      "metadata": {
        "colab": {
          "base_uri": "https://localhost:8080/"
        },
        "id": "Lul3Dw_QSImz",
        "outputId": "cecacff3-97f3-459e-bf45-a39c80325d40"
      },
      "source": [
        "from google.colab import drive\r\n",
        "drive.mount('/content/gdrive')"
      ],
      "execution_count": 1,
      "outputs": [
        {
          "output_type": "stream",
          "text": [
            "Mounted at /content/gdrive\n"
          ],
          "name": "stdout"
        }
      ]
    },
    {
      "cell_type": "code",
      "metadata": {
        "id": "NcVEsLX_SXyh"
      },
      "source": [
        "path = '/content/gdrive/My Drive/news_summary.csv'\r\n"
      ],
      "execution_count": 7,
      "outputs": []
    },
    {
      "cell_type": "code",
      "metadata": {
        "colab": {
          "resources": {
            "http://localhost:8080/nbextensions/google.colab/files.js": {
              "data": "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",
              "ok": true,
              "headers": [
                [
                  "content-type",
                  "application/javascript"
                ]
              ],
              "status": 200,
              "status_text": ""
            }
          },
          "base_uri": "https://localhost:8080/",
          "height": 72
        },
        "id": "BMA1b-KVatFP",
        "outputId": "fc4eae0d-0935-4570-add9-fe0810bd1715"
      },
      "source": [
        "from google.colab import files\r\n",
        "src = list(files.upload().values())[0]\r\n",
        "open('attention.py','wb').write(src)\r\n",
        "import attention"
      ],
      "execution_count": 42,
      "outputs": [
        {
          "output_type": "display_data",
          "data": {
            "text/html": [
              "\n",
              "     <input type=\"file\" id=\"files-e3e81c56-595a-40ec-88d2-dcb79876cc4e\" name=\"files[]\" multiple disabled\n",
              "        style=\"border:none\" />\n",
              "     <output id=\"result-e3e81c56-595a-40ec-88d2-dcb79876cc4e\">\n",
              "      Upload widget is only available when the cell has been executed in the\n",
              "      current browser session. Please rerun this cell to enable.\n",
              "      </output>\n",
              "      <script src=\"/nbextensions/google.colab/files.js\"></script> "
            ],
            "text/plain": [
              "<IPython.core.display.HTML object>"
            ]
          },
          "metadata": {
            "tags": []
          }
        },
        {
          "output_type": "stream",
          "text": [
            "Saving attention.py to attention.py\n"
          ],
          "name": "stdout"
        }
      ]
    },
    {
      "cell_type": "code",
      "metadata": {
        "colab": {
          "base_uri": "https://localhost:8080/"
        },
        "id": "og0RLJGfSjIC",
        "outputId": "895e02fa-acac-4334-c1f2-a142a00e58f0"
      },
      "source": [
        "import numpy as np\r\n",
        "import pandas as pd \r\n",
        "import re\r\n",
        "from keras.preprocessing.text import Tokenizer \r\n",
        "from nltk import download\r\n",
        "download('stopwords')\r\n",
        "from nltk.corpus import stopwords\r\n",
        "from tensorflow.keras.layers import Input, LSTM, Embedding, Dense, Concatenate, TimeDistributed\r\n",
        "from tensorflow.keras.models import Model\r\n",
        "from tensorflow.keras.callbacks import EarlyStopping\r\n",
        "import warnings\r\n",
        "from attention import AttentionLayer\r\n",
        "pd.set_option(\"display.max_colwidth\", 200)\r\n",
        "warnings.filterwarnings(\"ignore\")"
      ],
      "execution_count": 44,
      "outputs": [
        {
          "output_type": "stream",
          "text": [
            "[nltk_data] Downloading package stopwords to /root/nltk_data...\n",
            "[nltk_data]   Package stopwords is already up-to-date!\n"
          ],
          "name": "stdout"
        }
      ]
    },
    {
      "cell_type": "code",
      "metadata": {
        "colab": {
          "base_uri": "https://localhost:8080/",
          "height": 306
        },
        "id": "wKrNVOh3U0nw",
        "outputId": "88c7b06b-aaa7-4ce5-e883-c530172abe8a"
      },
      "source": [
        "reviews_1 = pd.read_csv(path,encoding='latin-1')\r\n",
        "reviews = reviews_1[['headlines', 'text']]\r\n",
        "print(reviews.shape)\r\n",
        "reviews.head()"
      ],
      "execution_count": 45,
      "outputs": [
        {
          "output_type": "stream",
          "text": [
            "(4514, 2)\n"
          ],
          "name": "stdout"
        },
        {
          "output_type": "execute_result",
          "data": {
            "text/html": [
              "<div>\n",
              "<style scoped>\n",
              "    .dataframe tbody tr th:only-of-type {\n",
              "        vertical-align: middle;\n",
              "    }\n",
              "\n",
              "    .dataframe tbody tr th {\n",
              "        vertical-align: top;\n",
              "    }\n",
              "\n",
              "    .dataframe thead th {\n",
              "        text-align: right;\n",
              "    }\n",
              "</style>\n",
              "<table border=\"1\" class=\"dataframe\">\n",
              "  <thead>\n",
              "    <tr style=\"text-align: right;\">\n",
              "      <th></th>\n",
              "      <th>headlines</th>\n",
              "      <th>text</th>\n",
              "    </tr>\n",
              "  </thead>\n",
              "  <tbody>\n",
              "    <tr>\n",
              "      <th>0</th>\n",
              "      <td>Daman &amp; Diu revokes mandatory Rakshabandhan in offices order</td>\n",
              "      <td>The Administration of Union Territory Daman and Diu has revoked its order that made it compulsory for women to tie rakhis to their male colleagues on the occasion of Rakshabandhan on August 7. The...</td>\n",
              "    </tr>\n",
              "    <tr>\n",
              "      <th>1</th>\n",
              "      <td>Malaika slams user who trolled her for 'divorcing rich man'</td>\n",
              "      <td>Malaika Arora slammed an Instagram user who trolled her for \"divorcing a rich man\" and \"having fun with the alimony\". \"Her life now is all about wearing short clothes, going to gym or salon, enjoy...</td>\n",
              "    </tr>\n",
              "    <tr>\n",
              "      <th>2</th>\n",
              "      <td>'Virgin' now corrected to 'Unmarried' in IGIMS' form</td>\n",
              "      <td>The Indira Gandhi Institute of Medical Sciences (IGIMS) in Patna on Thursday made corrections in its Marital Declaration Form by changing 'Virgin' option to 'Unmarried'. Earlier, Bihar Health Mini...</td>\n",
              "    </tr>\n",
              "    <tr>\n",
              "      <th>3</th>\n",
              "      <td>Aaj aapne pakad liya: LeT man Dujana before being killed</td>\n",
              "      <td>Lashkar-e-Taiba's Kashmir commander Abu Dujana, who was killed by security forces, said \"Kabhi hum aage, kabhi aap, aaj aapne pakad liya, mubarak ho aapko (Today you caught me. Congratulations)\" a...</td>\n",
              "    </tr>\n",
              "    <tr>\n",
              "      <th>4</th>\n",
              "      <td>Hotel staff to get training to spot signs of sex trafficking</td>\n",
              "      <td>Hotels in Maharashtra will train their staff to spot signs of sex trafficking, including frequent requests for bed linen changes and 'Do not disturb' signs left on room doors for days. A mobile ph...</td>\n",
              "    </tr>\n",
              "  </tbody>\n",
              "</table>\n",
              "</div>"
            ],
            "text/plain": [
              "                                                      headlines                                                                                                                                                                                                     text\n",
              "0  Daman & Diu revokes mandatory Rakshabandhan in offices order  The Administration of Union Territory Daman and Diu has revoked its order that made it compulsory for women to tie rakhis to their male colleagues on the occasion of Rakshabandhan on August 7. The...\n",
              "1  Malaika slams user who trolled her for 'divorcing rich man'   Malaika Arora slammed an Instagram user who trolled her for \"divorcing a rich man\" and \"having fun with the alimony\". \"Her life now is all about wearing short clothes, going to gym or salon, enjoy...\n",
              "2          'Virgin' now corrected to 'Unmarried' in IGIMS' form  The Indira Gandhi Institute of Medical Sciences (IGIMS) in Patna on Thursday made corrections in its Marital Declaration Form by changing 'Virgin' option to 'Unmarried'. Earlier, Bihar Health Mini...\n",
              "3      Aaj aapne pakad liya: LeT man Dujana before being killed  Lashkar-e-Taiba's Kashmir commander Abu Dujana, who was killed by security forces, said \"Kabhi hum aage, kabhi aap, aaj aapne pakad liya, mubarak ho aapko (Today you caught me. Congratulations)\" a...\n",
              "4  Hotel staff to get training to spot signs of sex trafficking  Hotels in Maharashtra will train their staff to spot signs of sex trafficking, including frequent requests for bed linen changes and 'Do not disturb' signs left on room doors for days. A mobile ph..."
            ]
          },
          "metadata": {
            "tags": []
          },
          "execution_count": 45
        }
      ]
    },
    {
      "cell_type": "code",
      "metadata": {
        "colab": {
          "base_uri": "https://localhost:8080/"
        },
        "id": "SwYRWAepU9N-",
        "outputId": "71637fe9-6455-4d65-bc09-2fe4019f8ec9"
      },
      "source": [
        "# Check for any nulls values\r\n",
        "reviews.isnull().sum()"
      ],
      "execution_count": 46,
      "outputs": [
        {
          "output_type": "execute_result",
          "data": {
            "text/plain": [
              "headlines    0\n",
              "text         0\n",
              "dtype: int64"
            ]
          },
          "metadata": {
            "tags": []
          },
          "execution_count": 46
        }
      ]
    },
    {
      "cell_type": "code",
      "metadata": {
        "colab": {
          "base_uri": "https://localhost:8080/"
        },
        "id": "N-vwSi9gV_fh",
        "outputId": "4307091c-6d21-4cab-feb3-e1e76462b3a9"
      },
      "source": [
        "# let's inspect some reviews\r\n",
        "for i in range(5):\r\n",
        "    print(\"Review: \",i+1)\r\n",
        "    print(reviews.headlines[i])\r\n",
        "    print('-'*80)\r\n",
        "    print(reviews.text[i])\r\n",
        "    print()\r\n",
        "    "
      ],
      "execution_count": 47,
      "outputs": [
        {
          "output_type": "stream",
          "text": [
            "Review:  1\n",
            "Daman & Diu revokes mandatory Rakshabandhan in offices order\n",
            "--------------------------------------------------------------------------------\n",
            "The Administration of Union Territory Daman and Diu has revoked its order that made it compulsory for women to tie rakhis to their male colleagues on the occasion of Rakshabandhan on August 7. The administration was forced to withdraw the decision within 24 hours of issuing the circular after it received flak from employees and was slammed on social media.\n",
            "\n",
            "Review:  2\n",
            "Malaika slams user who trolled her for 'divorcing rich man' \n",
            "--------------------------------------------------------------------------------\n",
            "Malaika Arora slammed an Instagram user who trolled her for \"divorcing a rich man\" and \"having fun with the alimony\". \"Her life now is all about wearing short clothes, going to gym or salon, enjoying vacation[s],\" the user commented. Malaika responded, \"You certainly got to get your damn facts right before spewing sh*t on me...when you know nothing about me.\"\n",
            "\n",
            "Review:  3\n",
            "'Virgin' now corrected to 'Unmarried' in IGIMS' form\n",
            "--------------------------------------------------------------------------------\n",
            "The Indira Gandhi Institute of Medical Sciences (IGIMS) in Patna on Thursday made corrections in its Marital Declaration Form by changing 'Virgin' option to 'Unmarried'. Earlier, Bihar Health Minister defined virgin as being an unmarried woman and did not consider the term objectionable. The institute, however, faced strong backlash for asking new recruits to declare their virginity in the form.\n",
            "\n",
            "Review:  4\n",
            "Aaj aapne pakad liya: LeT man Dujana before being killed\n",
            "--------------------------------------------------------------------------------\n",
            "Lashkar-e-Taiba's Kashmir commander Abu Dujana, who was killed by security forces, said \"Kabhi hum aage, kabhi aap, aaj aapne pakad liya, mubarak ho aapko (Today you caught me. Congratulations)\" after being caught. He added that he won't surrender, and whatever is in his fate will happen to him. \"Hum nikley they shaheed hone (had left home for martyrdom),\" he added.\n",
            "\n",
            "Review:  5\n",
            "Hotel staff to get training to spot signs of sex trafficking\n",
            "--------------------------------------------------------------------------------\n",
            "Hotels in Maharashtra will train their staff to spot signs of sex trafficking, including frequent requests for bed linen changes and 'Do not disturb' signs left on room doors for days. A mobile phone app called Rescue Me, which will allow staff to alert police of suspicious behaviour, will be developed. The initiative has been backed by the Maharashtra government.\n",
            "\n"
          ],
          "name": "stdout"
        }
      ]
    },
    {
      "cell_type": "code",
      "metadata": {
        "id": "NrnLtW2dWSg3"
      },
      "source": [
        "CURRENCIES = {\r\n",
        "    \"$\": \"USD\", \"zł\": \"PLN\", \"£\": \"GBP\", \"¥\": \"JPY\", \"฿\": \"THB\", \"₡\": \"CRC\", \"₦\": \"NGN\",\"₩\": \"KRW\",\r\n",
        "    \"₪\": \"ILS\", \"₫\": \"VND\", \"€\": \"EUR\", \"₱\": \"PHP\", \"₲\": \"PYG\", \"₴\": \"UAH\", \"₹\": \"INR\",}\r\n",
        "CURRENCY_REGEX = re.compile(\r\n",
        "    \"({})+\".format(\"|\".join(re.escape(c) for c in CURRENCIES.keys())))\r\n",
        "\r\n",
        "EMAIL_REGEX = re.compile(\r\n",
        "    r\"(?:^|(?<=[^\\w@.)]))([\\w+-](\\.(?!\\.))?)*?[\\w+-]@(?:\\w-?)*?\\w+(\\.([a-z]{2,})){1,3}(?:$|(?=\\b))\",\r\n",
        "    flags=re.IGNORECASE | re.UNICODE,)\r\n",
        "\r\n",
        "# A list of contractions from http://stackoverflow.com/questions/19790188/expanding-english-language-contractions-in-python\r\n",
        "contractions =          {\"ain't\": \"is not\", \"aren't\": \"are not\",\"can't\": \"cannot\", \"'cause\": \"because\", \"could've\": \"could have\", \"couldn't\": \"could not\",\r\n",
        "                           \"didn't\": \"did not\",  \"doesn't\": \"does not\", \"don't\": \"do not\", \"hadn't\": \"had not\", \"hasn't\": \"has not\", \"haven't\": \"have not\",\r\n",
        "                           \"he'd\": \"he would\",\"he'll\": \"he will\", \"he's\": \"he is\", \"how'd\": \"how did\", \"how'd'y\": \"how do you\", \"how'll\": \"how will\", \"how's\": \"how is\",\r\n",
        "                           \"I'd\": \"I would\", \"I'd've\": \"I would have\", \"I'll\": \"I will\", \"I'll've\": \"I will have\",\"I'm\": \"I am\", \"I've\": \"I have\", \"i'd\": \"i would\",\r\n",
        "                           \"i'd've\": \"i would have\", \"i'll\": \"i will\",  \"i'll've\": \"i will have\",\"i'm\": \"i am\", \"i've\": \"i have\", \"isn't\": \"is not\", \"it'd\": \"it would\",\r\n",
        "                           \"it'd've\": \"it would have\", \"it'll\": \"it will\", \"it'll've\": \"it will have\",\"it's\": \"it is\", \"let's\": \"let us\", \"ma'am\": \"madam\",\r\n",
        "                           \"mayn't\": \"may not\", \"might've\": \"might have\",\"mightn't\": \"might not\",\"mightn't've\": \"might not have\", \"must've\": \"must have\",\r\n",
        "                           \"mustn't\": \"must not\", \"mustn't've\": \"must not have\", \"needn't\": \"need not\", \"needn't've\": \"need not have\",\"o'clock\": \"of the clock\",\r\n",
        "                           \"oughtn't\": \"ought not\", \"oughtn't've\": \"ought not have\", \"shan't\": \"shall not\", \"sha'n't\": \"shall not\", \"shan't've\": \"shall not have\",\r\n",
        "                           \"she'd\": \"she would\", \"she'd've\": \"she would have\", \"she'll\": \"she will\", \"she'll've\": \"she will have\", \"she's\": \"she is\",\r\n",
        "                           \"should've\": \"should have\", \"shouldn't\": \"should not\", \"shouldn't've\": \"should not have\", \"so've\": \"so have\",\"so's\": \"so as\",\r\n",
        "                           \"this's\": \"this is\",\"that'd\": \"that would\", \"that'd've\": \"that would have\", \"that's\": \"that is\", \"there'd\": \"there would\",\r\n",
        "                           \"there'd've\": \"there would have\", \"there's\": \"there is\", \"here's\": \"here is\",\"they'd\": \"they would\", \"they'd've\": \"they would have\",\r\n",
        "                           \"they'll\": \"they will\", \"they'll've\": \"they will have\", \"they're\": \"they are\", \"they've\": \"they have\", \"to've\": \"to have\",\r\n",
        "                           \"wasn't\": \"was not\", \"we'd\": \"we would\", \"we'd've\": \"we would have\", \"we'll\": \"we will\", \"we'll've\": \"we will have\", \"we're\": \"we are\",\r\n",
        "                           \"we've\": \"we have\", \"weren't\": \"were not\", \"what'll\": \"what will\", \"what'll've\": \"what will have\", \"what're\": \"what are\",\r\n",
        "                           \"what's\": \"what is\", \"what've\": \"what have\", \"when's\": \"when is\", \"when've\": \"when have\", \"where'd\": \"where did\", \"where's\": \"where is\",\r\n",
        "                           \"where've\": \"where have\", \"who'll\": \"who will\", \"who'll've\": \"who will have\", \"who's\": \"who is\", \"who've\": \"who have\",\r\n",
        "                           \"why's\": \"why is\", \"why've\": \"why have\", \"will've\": \"will have\", \"won't\": \"will not\", \"won't've\": \"will not have\",\r\n",
        "                           \"would've\": \"would have\", \"wouldn't\": \"would not\", \"wouldn't've\": \"would not have\", \"y'all\": \"you all\",\r\n",
        "                           \"y'all'd\": \"you all would\",\"y'all'd've\": \"you all would have\",\"y'all're\": \"you all are\",\"y'all've\": \"you all have\",\r\n",
        "                           \"you'd\": \"you would\", \"you'd've\": \"you would have\", \"you'll\": \"you will\", \"you'll've\": \"you will have\",\r\n",
        "                           \"you're\": \"you are\", \"you've\": \"you have\", \"i've\": \"i have\"}"
      ],
      "execution_count": 48,
      "outputs": []
    },
    {
      "cell_type": "code",
      "metadata": {
        "id": "yB0L6mHhWdSH"
      },
      "source": [
        "def clean_text(text, remove_stopwords = True):\r\n",
        "    \r\n",
        "    text = text.lower()\r\n",
        "    if True:\r\n",
        "        text = text.split()\r\n",
        "        new_text = []\r\n",
        "        for word in text:\r\n",
        "            if word in contractions:\r\n",
        "                new_text.append(contractions[word])\r\n",
        "            else:\r\n",
        "                new_text.append(word)\r\n",
        "        text = \" \".join(new_text)\r\n",
        "        \r\n",
        "    text = re.sub(r'https?:\\/\\/.*[\\r\\n]*', '', text, flags=re.MULTILINE)\r\n",
        "    text = EMAIL_REGEX.sub(' ',text)\r\n",
        "    text = CURRENCY_REGEX.sub(' ',text)\r\n",
        "    text = ' '.join([contractions[t] if t in contractions else t for t in text.split(\" \")])    \r\n",
        "    text = re.sub(r'[_\"\\-;%()|+&=*%.,!?:#$@\\[\\]/]', ' ', text)\r\n",
        "    text = re.sub(r\"'s\\b\",\"\", text)\r\n",
        "    text = re.sub(r'&amp;', '', text) \r\n",
        "    \r\n",
        "    if remove_stopwords:\r\n",
        "        text = text.split()\r\n",
        "        stops = set(stopwords.words(\"english\"))\r\n",
        "        text = [w for w in text if not w in stops]\r\n",
        "        text = \" \".join(text)\r\n",
        "\r\n",
        "    return text"
      ],
      "execution_count": 49,
      "outputs": []
    },
    {
      "cell_type": "code",
      "metadata": {
        "colab": {
          "base_uri": "https://localhost:8080/"
        },
        "id": "RDiFXbDBWyV_",
        "outputId": "34565a31-4de7-4ffe-82c3-f37199b9c7ac"
      },
      "source": [
        "cleaned_headlines = []\r\n",
        "cleaned_text = []\r\n",
        "\r\n",
        "for headlines in reviews['headlines']:\r\n",
        "    cleaned_headlines.append(clean_text(headlines, remove_stopwords=False))\r\n",
        "print(\"Headlines are complete.\")\r\n",
        "\r\n",
        "for text in reviews['text']:\r\n",
        "    cleaned_text.append(clean_text(text))\r\n",
        "print(\"Texts are complete.\")"
      ],
      "execution_count": 50,
      "outputs": [
        {
          "output_type": "stream",
          "text": [
            "Headlines are complete.\n",
            "Texts are complete.\n"
          ],
          "name": "stdout"
        }
      ]
    },
    {
      "cell_type": "code",
      "metadata": {
        "colab": {
          "base_uri": "https://localhost:8080/"
        },
        "id": "Rr96R-FfW8Lp",
        "outputId": "98810019-01ce-49d9-da33-5b641dc3cd81"
      },
      "source": [
        "# let's inspect some clean reviews\r\n",
        "for i in range(4):\r\n",
        "    print(\"Review: \",i+1)\r\n",
        "    print(cleaned_headlines[i])\r\n",
        "    print('-'*80)\r\n",
        "    print(cleaned_text[i])\r\n",
        "    print()"
      ],
      "execution_count": 51,
      "outputs": [
        {
          "output_type": "stream",
          "text": [
            "Review:  1\n",
            "daman   diu revokes mandatory rakshabandhan in offices order\n",
            "--------------------------------------------------------------------------------\n",
            "administration union territory daman diu revoked order made compulsory women tie rakhis male colleagues occasion rakshabandhan august 7 administration forced withdraw decision within 24 hours issuing circular received flak employees slammed social media\n",
            "\n",
            "Review:  2\n",
            "malaika slams user who trolled her for 'divorcing rich man'\n",
            "--------------------------------------------------------------------------------\n",
            "malaika arora slammed instagram user trolled divorcing rich man fun alimony life wearing short clothes going gym salon enjoying vacation user commented malaika responded certainly got get damn facts right spewing sh know nothing\n",
            "\n",
            "Review:  3\n",
            "'virgin' now corrected to 'unmarried' in igims' form\n",
            "--------------------------------------------------------------------------------\n",
            "indira gandhi institute medical sciences igims patna thursday made corrections marital declaration form changing 'virgin' option 'unmarried' earlier bihar health minister defined virgin unmarried woman consider term objectionable institute however faced strong backlash asking new recruits declare virginity form\n",
            "\n",
            "Review:  4\n",
            "aaj aapne pakad liya  let man dujana before being killed\n",
            "--------------------------------------------------------------------------------\n",
            "lashkar e taiba kashmir commander abu dujana killed security forces said kabhi hum aage kabhi aap aaj aapne pakad liya mubarak ho aapko today caught congratulations caught added surrender whatever fate happen hum nikley shaheed hone left home martyrdom added\n",
            "\n"
          ],
          "name": "stdout"
        }
      ]
    },
    {
      "cell_type": "code",
      "metadata": {
        "colab": {
          "base_uri": "https://localhost:8080/",
          "height": 281
        },
        "id": "Ab2JtGQFW_VS",
        "outputId": "87deb214-b554-40bc-c41b-65491c835696"
      },
      "source": [
        "# distribution of sequences\r\n",
        "import matplotlib.pyplot as plt\r\n",
        "\r\n",
        "text_word_count = []\r\n",
        "headlines_word_count = []\r\n",
        "\r\n",
        "for i in cleaned_text:\r\n",
        "    text_word_count.append(len(i.split()))\r\n",
        "for i in cleaned_headlines:\r\n",
        "    headlines_word_count.append(len(i.split()))\r\n",
        "\r\n",
        "length_df = pd.DataFrame({'text': text_word_count, 'headlines': headlines_word_count})\r\n",
        "length_df.hist(bins=15)\r\n",
        "plt.show()"
      ],
      "execution_count": 52,
      "outputs": [
        {
          "output_type": "display_data",
          "data": {
            "image/png": "[encoded data removed]",
            "text/plain": [
              "<Figure size 432x288 with 2 Axes>"
            ]
          },
          "metadata": {
            "tags": [],
            "needs_background": "light"
          }
        }
      ]
    },
    {
      "cell_type": "code",
      "metadata": {
        "colab": {
          "base_uri": "https://localhost:8080/"
        },
        "id": "NAESU1fbXEF8",
        "outputId": "22cd957f-4fd7-470f-94f9-bea559a6c533"
      },
      "source": [
        "count = 0\r\n",
        "for i in cleaned_text:\r\n",
        "    if(len(i.split())<=55):\r\n",
        "        count += 1\r\n",
        "print(count/len(cleaned_text))"
      ],
      "execution_count": 53,
      "outputs": [
        {
          "output_type": "stream",
          "text": [
            "1.0\n"
          ],
          "name": "stdout"
        }
      ]
    },
    {
      "cell_type": "code",
      "metadata": {
        "id": "groSF0w2XIw_"
      },
      "source": [
        "max_headlines_len=15\r\n",
        "max_text_len=55\r\n",
        "\r\n",
        "cleaned_text = np.array(cleaned_text)\r\n",
        "cleaned_headlines = np.array(cleaned_headlines)\r\n",
        "\r\n",
        "short_text=[]\r\n",
        "short_headlines=[]\r\n",
        "\r\n",
        "for i in range(len(cleaned_text)):\r\n",
        "    \r\n",
        "    if(len(cleaned_headlines[i].split())<=max_headlines_len and len(cleaned_text[i].split())<=max_text_len):\r\n",
        "        short_text.append(cleaned_text[i])\r\n",
        "        short_headlines.append(cleaned_headlines[i])\r\n",
        "\r\n",
        "df=pd.DataFrame({'text':short_text,'headlines':short_headlines})\r\n",
        "df['headlines'] = df['headlines'].apply(lambda x : 'sostok '+ x + ' eostok')\r\n",
        "\r\n",
        "from sklearn.model_selection import train_test_split\r\n",
        "x_tr,x_val,y_tr,y_val=train_test_split(np.array(df['text']),np.array(df['headlines']),test_size=0.1,random_state=0,shuffle=True)"
      ],
      "execution_count": 54,
      "outputs": []
    },
    {
      "cell_type": "code",
      "metadata": {
        "colab": {
          "base_uri": "https://localhost:8080/",
          "height": 289
        },
        "id": "AAKMbzLsXQD3",
        "outputId": "4d73cdb5-3ab6-4d74-acdb-80f39ce3b391"
      },
      "source": [
        "df.head()\r\n"
      ],
      "execution_count": 55,
      "outputs": [
        {
          "output_type": "execute_result",
          "data": {
            "text/html": [
              "<div>\n",
              "<style scoped>\n",
              "    .dataframe tbody tr th:only-of-type {\n",
              "        vertical-align: middle;\n",
              "    }\n",
              "\n",
              "    .dataframe tbody tr th {\n",
              "        vertical-align: top;\n",
              "    }\n",
              "\n",
              "    .dataframe thead th {\n",
              "        text-align: right;\n",
              "    }\n",
              "</style>\n",
              "<table border=\"1\" class=\"dataframe\">\n",
              "  <thead>\n",
              "    <tr style=\"text-align: right;\">\n",
              "      <th></th>\n",
              "      <th>text</th>\n",
              "      <th>headlines</th>\n",
              "    </tr>\n",
              "  </thead>\n",
              "  <tbody>\n",
              "    <tr>\n",
              "      <th>0</th>\n",
              "      <td>administration union territory daman diu revoked order made compulsory women tie rakhis male colleagues occasion rakshabandhan august 7 administration forced withdraw decision within 24 hours issu...</td>\n",
              "      <td>sostok daman   diu revokes mandatory rakshabandhan in offices order eostok</td>\n",
              "    </tr>\n",
              "    <tr>\n",
              "      <th>1</th>\n",
              "      <td>malaika arora slammed instagram user trolled divorcing rich man fun alimony life wearing short clothes going gym salon enjoying vacation user commented malaika responded certainly got get damn fac...</td>\n",
              "      <td>sostok malaika slams user who trolled her for 'divorcing rich man' eostok</td>\n",
              "    </tr>\n",
              "    <tr>\n",
              "      <th>2</th>\n",
              "      <td>indira gandhi institute medical sciences igims patna thursday made corrections marital declaration form changing 'virgin' option 'unmarried' earlier bihar health minister defined virgin unmarried ...</td>\n",
              "      <td>sostok 'virgin' now corrected to 'unmarried' in igims' form eostok</td>\n",
              "    </tr>\n",
              "    <tr>\n",
              "      <th>3</th>\n",
              "      <td>lashkar e taiba kashmir commander abu dujana killed security forces said kabhi hum aage kabhi aap aaj aapne pakad liya mubarak ho aapko today caught congratulations caught added surrender whatever...</td>\n",
              "      <td>sostok aaj aapne pakad liya  let man dujana before being killed eostok</td>\n",
              "    </tr>\n",
              "    <tr>\n",
              "      <th>4</th>\n",
              "      <td>hotels maharashtra train staff spot signs sex trafficking including frequent requests bed linen changes 'do disturb' signs left room doors days mobile phone app called rescue allow staff alert pol...</td>\n",
              "      <td>sostok hotel staff to get training to spot signs of sex trafficking eostok</td>\n",
              "    </tr>\n",
              "  </tbody>\n",
              "</table>\n",
              "</div>"
            ],
            "text/plain": [
              "                                                                                                                                                                                                      text                                                                   headlines\n",
              "0  administration union territory daman diu revoked order made compulsory women tie rakhis male colleagues occasion rakshabandhan august 7 administration forced withdraw decision within 24 hours issu...  sostok daman   diu revokes mandatory rakshabandhan in offices order eostok\n",
              "1  malaika arora slammed instagram user trolled divorcing rich man fun alimony life wearing short clothes going gym salon enjoying vacation user commented malaika responded certainly got get damn fac...   sostok malaika slams user who trolled her for 'divorcing rich man' eostok\n",
              "2  indira gandhi institute medical sciences igims patna thursday made corrections marital declaration form changing 'virgin' option 'unmarried' earlier bihar health minister defined virgin unmarried ...          sostok 'virgin' now corrected to 'unmarried' in igims' form eostok\n",
              "3  lashkar e taiba kashmir commander abu dujana killed security forces said kabhi hum aage kabhi aap aaj aapne pakad liya mubarak ho aapko today caught congratulations caught added surrender whatever...      sostok aaj aapne pakad liya  let man dujana before being killed eostok\n",
              "4  hotels maharashtra train staff spot signs sex trafficking including frequent requests bed linen changes 'do disturb' signs left room doors days mobile phone app called rescue allow staff alert pol...  sostok hotel staff to get training to spot signs of sex trafficking eostok"
            ]
          },
          "metadata": {
            "tags": []
          },
          "execution_count": 55
        }
      ]
    },
    {
      "cell_type": "code",
      "metadata": {
        "colab": {
          "base_uri": "https://localhost:8080/"
        },
        "id": "WYPmpRaZXfP7",
        "outputId": "87658115-48e7-4ccc-8d8b-ef8ba7def812"
      },
      "source": [
        "from keras.preprocessing.text import Tokenizer \r\n",
        "from keras.preprocessing.sequence import pad_sequences\r\n",
        "\r\n",
        "#prepare a tokenizer for reviews on training data\r\n",
        "x_tokenizer = Tokenizer() \r\n",
        "x_tokenizer.fit_on_texts(list(x_tr))\r\n",
        "\r\n",
        "thresh=4\r\n",
        "cnt=0\r\n",
        "tot_cnt=0\r\n",
        "freq=0\r\n",
        "tot_freq=0\r\n",
        "\r\n",
        "for key,value in x_tokenizer.word_counts.items():\r\n",
        "    tot_cnt=tot_cnt+1\r\n",
        "    tot_freq=tot_freq+value\r\n",
        "    if(value<thresh):\r\n",
        "        cnt=cnt+1\r\n",
        "        freq=freq+value\r\n",
        "    \r\n",
        "print(\"% of rare words in vocabulary:\",(cnt/tot_cnt)*100)\r\n",
        "print(\"Total Coverage of rare words:\",(freq/tot_freq)*100)\r\n",
        "\r\n",
        "#prepare a tokenizer for reviews on training data\r\n",
        "x_tokenizer = Tokenizer(num_words=tot_cnt-cnt) \r\n",
        "x_tokenizer.fit_on_texts(list(x_tr))\r\n",
        "\r\n",
        "#convert text sequences into integer sequences\r\n",
        "x_tr_seq    =   x_tokenizer.texts_to_sequences(x_tr) \r\n",
        "x_val_seq   =   x_tokenizer.texts_to_sequences(x_val)\r\n",
        "\r\n",
        "#padding zero upto maximum length\r\n",
        "x_tr    =   pad_sequences(x_tr_seq,  maxlen=max_text_len, padding='post')\r\n",
        "x_val   =   pad_sequences(x_val_seq, maxlen=max_text_len, padding='post')\r\n",
        "\r\n",
        "#size of vocabulary ( +1 for padding token)\r\n",
        "x_voc   =  x_tokenizer.num_words + 1\r\n",
        "\r\n",
        "x_voc"
      ],
      "execution_count": 56,
      "outputs": [
        {
          "output_type": "stream",
          "text": [
            "% of rare words in vocabulary: 68.12220256063287\n",
            "Total Coverage of rare words: 13.023654231389239\n"
          ],
          "name": "stdout"
        },
        {
          "output_type": "execute_result",
          "data": {
            "text/plain": [
              "6126"
            ]
          },
          "metadata": {
            "tags": []
          },
          "execution_count": 56
        }
      ]
    },
    {
      "cell_type": "code",
      "metadata": {
        "colab": {
          "base_uri": "https://localhost:8080/"
        },
        "id": "d_4cT-MxXpYJ",
        "outputId": "c974ad3e-e85c-48f6-a6ef-f675afaac133"
      },
      "source": [
        "\r\n",
        "#prepare a tokenizer for reviews on training data\r\n",
        "y_tokenizer = Tokenizer()   \r\n",
        "y_tokenizer.fit_on_texts(list(y_tr))\r\n",
        "\r\n",
        "thresh=6\r\n",
        "cnt=0\r\n",
        "tot_cnt=0\r\n",
        "freq=0\r\n",
        "tot_freq=0\r\n",
        "\r\n",
        "for key,value in y_tokenizer.word_counts.items():\r\n",
        "    tot_cnt=tot_cnt+1\r\n",
        "    tot_freq=tot_freq+value\r\n",
        "    if(value<thresh):\r\n",
        "        cnt=cnt+1\r\n",
        "        freq=freq+value\r\n",
        "    \r\n",
        "print(\"% of rare words in vocabulary:\",(cnt/tot_cnt)*100)\r\n",
        "print(\"Total Coverage of rare words:\",(freq/tot_freq)*100)\r\n",
        "\r\n",
        "#prepare a tokenizer for reviews on training data\r\n",
        "y_tokenizer = Tokenizer(num_words=tot_cnt-cnt) \r\n",
        "y_tokenizer.fit_on_texts(list(y_tr))\r\n",
        "\r\n",
        "#convert text sequences into integer sequences\r\n",
        "y_tr_seq    =   y_tokenizer.texts_to_sequences(y_tr) \r\n",
        "y_val_seq   =   y_tokenizer.texts_to_sequences(y_val) \r\n",
        "\r\n",
        "#padding zero upto maximum length\r\n",
        "y_tr    =   pad_sequences(y_tr_seq, maxlen=max_headlines_len, padding='post')\r\n",
        "y_val   =   pad_sequences(y_val_seq, maxlen=max_headlines_len, padding='post')\r\n",
        "\r\n",
        "#size of vocabulary\r\n",
        "y_voc  =   y_tokenizer.num_words +1\r\n",
        "\r\n",
        "y_tokenizer.word_counts['sostok'],len(y_tr)"
      ],
      "execution_count": 57,
      "outputs": [
        {
          "output_type": "stream",
          "text": [
            "% of rare words in vocabulary: 85.91779542269967\n",
            "Total Coverage of rare words: 26.708114207848066\n"
          ],
          "name": "stdout"
        },
        {
          "output_type": "execute_result",
          "data": {
            "text/plain": [
              "(4062, 4062)"
            ]
          },
          "metadata": {
            "tags": []
          },
          "execution_count": 57
        }
      ]
    },
    {
      "cell_type": "code",
      "metadata": {
        "id": "bv6QgdcjXvei"
      },
      "source": [
        "ind=[]\r\n",
        "for i in range(len(y_tr)):\r\n",
        "    cnt=0\r\n",
        "    for j in y_tr[i]:\r\n",
        "        if j!=0:\r\n",
        "            cnt=cnt+1\r\n",
        "    if(cnt==2):\r\n",
        "        ind.append(i)\r\n",
        "\r\n",
        "y_tr=np.delete(y_tr,ind, axis=0)\r\n",
        "x_tr=np.delete(x_tr,ind, axis=0)\r\n",
        "\r\n",
        "ind=[]\r\n",
        "for i in range(len(y_val)):\r\n",
        "    cnt=0\r\n",
        "    for j in y_val[i]:\r\n",
        "        if j!=0:\r\n",
        "            cnt=cnt+1\r\n",
        "    if(cnt==2):\r\n",
        "        ind.append(i)\r\n",
        "\r\n",
        "y_val=np.delete(y_val,ind, axis=0)\r\n",
        "x_val=np.delete(x_val,ind, axis=0)"
      ],
      "execution_count": 58,
      "outputs": []
    },
    {
      "cell_type": "code",
      "metadata": {
        "id": "P_AjtZbOYhuL"
      },
      "source": [
        "from keras.layers import Input, LSTM, Embedding, Dense\r\n",
        "from keras.models import Model\r\n",
        "from tensorflow import keras\r\n",
        "from keras.layers import Dense"
      ],
      "execution_count": 59,
      "outputs": []
    },
    {
      "cell_type": "code",
      "metadata": {
        "id": "n3uiqQw8Y8Wi"
      },
      "source": [
        "from tensorflow.python.keras.layers import Input, Dense"
      ],
      "execution_count": 60,
      "outputs": []
    },
    {
      "cell_type": "code",
      "metadata": {
        "colab": {
          "base_uri": "https://localhost:8080/"
        },
        "id": "_QQKyNfPYiX3",
        "outputId": "8c49fe3a-350b-4cdf-da5c-1aeed6508ba1"
      },
      "source": [
        "import tensorflow as tf\r\n",
        "\r\n",
        "max_len = 200\r\n",
        "rnn_cell_size = 128\r\n",
        "vocab_size=250\r\n",
        "\r\n",
        "class Attention(tf.keras.Model):\r\n",
        "    def __init__(self, units):\r\n",
        "        super(Attention, self).__init__()\r\n",
        "        self.W1 = tf.keras.layers.Dense(units)\r\n",
        "        self.W2 = tf.keras.layers.Dense(units)\r\n",
        "        self.V = tf.keras.layers.Dense(1)\r\n",
        "    def call(self, features, hidden):\r\n",
        "        hidden_with_time_axis = tf.expand_dims(hidden, 1)\r\n",
        "        score = tf.nn.tanh(self.W1(features) + self.W2(hidden_with_time_axis))\r\n",
        "        attention_weights = tf.nn.softmax(self.V(score), axis=1)\r\n",
        "        context_vector = attention_weights * features\r\n",
        "        context_vector = tf.reduce_sum(context_vector, axis=1)\r\n",
        "        return context_vector, attention_weights\r\n",
        "\r\n",
        "sequence_input = tf.keras.layers.Input(shape=(max_len,), dtype='int32')\r\n",
        "\r\n",
        "embedded_sequences = tf.keras.layers.Embedding(vocab_size, 128, input_length=max_len)(sequence_input)\r\n",
        "\r\n",
        "lstm = tf.keras.layers.Bidirectional(tf.keras.layers.LSTM\r\n",
        "                                     (rnn_cell_size,\r\n",
        "                                      dropout=0.3,\r\n",
        "                                      return_sequences=True,\r\n",
        "                                      return_state=True,\r\n",
        "                                      recurrent_activation='relu',\r\n",
        "                                      recurrent_initializer='glorot_uniform'), name=\"bi_lstm_0\")(embedded_sequences)\r\n",
        "\r\n",
        "lstm, forward_h, forward_c, backward_h, backward_c = tf.keras.layers.Bidirectional \\\r\n",
        "    (tf.keras.layers.LSTM\r\n",
        "     (rnn_cell_size,\r\n",
        "      dropout=0.2,\r\n",
        "      return_sequences=True,\r\n",
        "      return_state=True,\r\n",
        "      recurrent_activation='relu',\r\n",
        "      recurrent_initializer='glorot_uniform'))(lstm)\r\n",
        "\r\n",
        "state_h = tf.keras.layers.Concatenate()([forward_h, backward_h])\r\n",
        "state_c = tf.keras.layers.Concatenate()([forward_c, backward_c])\r\n",
        "\r\n",
        "#  PROBLEM IN THIS LINE\r\n",
        "context_vector, attention_weights = Attention(32)(lstm, state_h)\r\n",
        "\r\n",
        "output = keras.layers.Dense(1, activation='sigmoid')(context_vector)\r\n",
        "\r\n",
        "model = keras.Model(inputs=sequence_input, outputs=output)\r\n",
        "\r\n",
        "# summarize layers\r\n",
        "print(model.summary())"
      ],
      "execution_count": 61,
      "outputs": [
        {
          "output_type": "stream",
          "text": [
            "Model: \"model\"\n",
            "__________________________________________________________________________________________________\n",
            "Layer (type)                    Output Shape         Param #     Connected to                     \n",
            "==================================================================================================\n",
            "input_3 (InputLayer)            [(None, 200)]        0                                            \n",
            "__________________________________________________________________________________________________\n",
            "embedding_2 (Embedding)         (None, 200, 128)     32000       input_3[0][0]                    \n",
            "__________________________________________________________________________________________________\n",
            "bi_lstm_0 (Bidirectional)       [(None, 200, 256), ( 263168      embedding_2[0][0]                \n",
            "__________________________________________________________________________________________________\n",
            "bidirectional (Bidirectional)   [(None, 200, 256), ( 394240      bi_lstm_0[0][0]                  \n",
            "                                                                 bi_lstm_0[0][1]                  \n",
            "                                                                 bi_lstm_0[0][2]                  \n",
            "                                                                 bi_lstm_0[0][3]                  \n",
            "                                                                 bi_lstm_0[0][4]                  \n",
            "__________________________________________________________________________________________________\n",
            "concatenate (Concatenate)       (None, 256)          0           bidirectional[0][1]              \n",
            "                                                                 bidirectional[0][3]              \n",
            "__________________________________________________________________________________________________\n",
            "attention (Attention)           ((None, 256), (None, 16481       bidirectional[0][0]              \n",
            "                                                                 concatenate[0][0]                \n",
            "__________________________________________________________________________________________________\n",
            "dense_3 (Dense)                 (None, 1)            257         attention[0][0]                  \n",
            "==================================================================================================\n",
            "Total params: 706,146\n",
            "Trainable params: 706,146\n",
            "Non-trainable params: 0\n",
            "__________________________________________________________________________________________________\n",
            "None\n"
          ],
          "name": "stdout"
        }
      ]
    },
    {
      "cell_type": "code",
      "metadata": {
        "id": "-oLOzzsWYibe"
      },
      "source": [
        ""
      ],
      "execution_count": 61,
      "outputs": []
    },
    {
      "cell_type": "code",
      "metadata": {
        "colab": {
          "base_uri": "https://localhost:8080/"
        },
        "id": "Ruvfk1gGX1C5",
        "outputId": "8a43748a-8064-4f43-afd9-5f37b43a18ca"
      },
      "source": [
        "from keras import backend as K \r\n",
        "K.clear_session()\r\n",
        "\r\n",
        "latent_dim = 200\r\n",
        "embedding_dim=110\r\n",
        "\r\n",
        "# Encoder\r\n",
        "encoder_inputs = Input(shape=(max_text_len,))\r\n",
        "\r\n",
        "#embedding layer\r\n",
        "enc_emb =  Embedding(x_voc, embedding_dim,trainable=True)(encoder_inputs)\r\n",
        "\r\n",
        "#encoder lstm 1\r\n",
        "encoder_lstm1 = LSTM(latent_dim,return_sequences=True,return_state=True,dropout=0.4,recurrent_dropout=0.4)\r\n",
        "encoder_output1, state_h1, state_c1 = encoder_lstm1(enc_emb)\r\n",
        "\r\n",
        "#encoder lstm 2\r\n",
        "encoder_lstm2 = LSTM(latent_dim,return_sequences=True,return_state=True,dropout=0.4,recurrent_dropout=0.4)\r\n",
        "encoder_output2, state_h2, state_c2 = encoder_lstm2(encoder_output1)\r\n",
        "\r\n",
        "#encoder lstm 3\r\n",
        "encoder_lstm3=LSTM(latent_dim, return_state=True, return_sequences=True,dropout=0.4,recurrent_dropout=0.4)\r\n",
        "encoder_outputs, state_h, state_c= encoder_lstm3(encoder_output2)\r\n",
        "\r\n",
        "# Set up the decoder, using `encoder_states` as initial state.\r\n",
        "decoder_inputs = Input(shape=(None,))\r\n",
        "\r\n",
        "#embedding layer\r\n",
        "dec_emb_layer = Embedding(y_voc, embedding_dim,trainable=True)\r\n",
        "dec_emb = dec_emb_layer(decoder_inputs)\r\n",
        "\r\n",
        "decoder_lstm = LSTM(latent_dim, return_sequences=True, return_state=True,dropout=0.4,recurrent_dropout=0.2)\r\n",
        "decoder_outputs,decoder_fwd_state, decoder_back_state = decoder_lstm(dec_emb,initial_state=[state_h, state_c])\r\n",
        "\r\n",
        "# Attention layer\r\n",
        "attn_layer = AttentionLayer(name='attention_layer')\r\n",
        "attn_out, attn_states = attn_layer([encoder_outputs, decoder_outputs])\r\n",
        "\r\n",
        "# Concat attention input and decoder LSTM output\r\n",
        "decoder_concat_input = Concatenate(axis=-1, name='concat_layer')([decoder_outputs, attn_out])\r\n",
        "\r\n",
        "#dense layer\r\n",
        "decoder_dense =  TimeDistributed(Dense(y_voc, activation='softmax'))\r\n",
        "decoder_outputs = decoder_dense(decoder_concat_input)\r\n",
        "\r\n",
        "# Define the model \r\n",
        "model = Model([encoder_inputs, decoder_inputs], decoder_outputs)\r\n",
        "\r\n",
        "model.summary()"
      ],
      "execution_count": 62,
      "outputs": [
        {
          "output_type": "stream",
          "text": [
            "Model: \"model\"\n",
            "__________________________________________________________________________________________________\n",
            "Layer (type)                    Output Shape         Param #     Connected to                     \n",
            "==================================================================================================\n",
            "input_1 (InputLayer)            [(None, 55)]         0                                            \n",
            "__________________________________________________________________________________________________\n",
            "embedding (Embedding)           (None, 55, 110)      673860      input_1[0][0]                    \n",
            "__________________________________________________________________________________________________\n",
            "lstm (LSTM)                     [(None, 55, 200), (N 248800      embedding[0][0]                  \n",
            "__________________________________________________________________________________________________\n",
            "input_2 (InputLayer)            [(None, None)]       0                                            \n",
            "__________________________________________________________________________________________________\n",
            "lstm_1 (LSTM)                   [(None, 55, 200), (N 320800      lstm[0][0]                       \n",
            "__________________________________________________________________________________________________\n",
            "embedding_1 (Embedding)         (None, None, 110)    132770      input_2[0][0]                    \n",
            "__________________________________________________________________________________________________\n",
            "lstm_2 (LSTM)                   [(None, 55, 200), (N 320800      lstm_1[0][0]                     \n",
            "__________________________________________________________________________________________________\n",
            "lstm_3 (LSTM)                   [(None, None, 200),  248800      embedding_1[0][0]                \n",
            "                                                                 lstm_2[0][1]                     \n",
            "                                                                 lstm_2[0][2]                     \n",
            "__________________________________________________________________________________________________\n",
            "attention_layer (AttentionLayer ((None, None, 200),  80200       lstm_2[0][0]                     \n",
            "                                                                 lstm_3[0][0]                     \n",
            "__________________________________________________________________________________________________\n",
            "concat_layer (Concatenate)      (None, None, 400)    0           lstm_3[0][0]                     \n",
            "                                                                 attention_layer[0][0]            \n",
            "__________________________________________________________________________________________________\n",
            "time_distributed (TimeDistribut (None, None, 1207)   484007      concat_layer[0][0]               \n",
            "==================================================================================================\n",
            "Total params: 2,510,037\n",
            "Trainable params: 2,510,037\n",
            "Non-trainable params: 0\n",
            "__________________________________________________________________________________________________\n"
          ],
          "name": "stdout"
        }
      ]
    },
    {
      "cell_type": "code",
      "metadata": {
        "colab": {
          "base_uri": "https://localhost:8080/"
        },
        "id": "Vx2z2T7MX7FN",
        "outputId": "738abe9c-8dc1-47c2-bb12-801ebbacf417"
      },
      "source": [
        "model.compile(optimizer='rmsprop', loss='sparse_categorical_crossentropy')\r\n",
        "es = EarlyStopping(monitor='val_loss', mode='min', verbose=1,patience=2)\r\n",
        "history=model.fit([x_tr,y_tr[:,:-1]], y_tr.reshape(y_tr.shape[0],y_tr.shape[1], 1)[:,1:] ,epochs=50,callbacks=[es],batch_size=128, validation_data=([x_val,y_val[:,:-1]], y_val.reshape(y_val.shape[0],y_val.shape[1], 1)[:,1:]))"
      ],
      "execution_count": 63,
      "outputs": [
        {
          "output_type": "stream",
          "text": [
            "Epoch 1/50\n",
            "32/32 [==============================] - 112s 3s/step - loss: 4.4311 - val_loss: 3.0433\n",
            "Epoch 2/50\n",
            "32/32 [==============================] - 99s 3s/step - loss: 3.1922 - val_loss: 2.8812\n",
            "Epoch 3/50\n",
            "32/32 [==============================] - 99s 3s/step - loss: 3.0531 - val_loss: 2.8219\n",
            "Epoch 4/50\n",
            "32/32 [==============================] - 99s 3s/step - loss: 2.9867 - val_loss: 2.7686\n",
            "Epoch 5/50\n",
            "32/32 [==============================] - 99s 3s/step - loss: 2.9311 - val_loss: 2.7564\n",
            "Epoch 6/50\n",
            "32/32 [==============================] - 99s 3s/step - loss: 2.8916 - val_loss: 2.7279\n",
            "Epoch 7/50\n",
            "32/32 [==============================] - 99s 3s/step - loss: 2.8410 - val_loss: 2.7021\n",
            "Epoch 8/50\n",
            "32/32 [==============================] - 99s 3s/step - loss: 2.7931 - val_loss: 2.6842\n",
            "Epoch 9/50\n",
            "32/32 [==============================] - 99s 3s/step - loss: 2.7655 - val_loss: 2.6729\n",
            "Epoch 10/50\n",
            "32/32 [==============================] - 99s 3s/step - loss: 2.7301 - val_loss: 2.6762\n",
            "Epoch 11/50\n",
            "32/32 [==============================] - 99s 3s/step - loss: 2.6985 - val_loss: 2.6387\n",
            "Epoch 12/50\n",
            "32/32 [==============================] - 99s 3s/step - loss: 2.6443 - val_loss: 2.6351\n",
            "Epoch 13/50\n",
            "32/32 [==============================] - 99s 3s/step - loss: 2.6199 - val_loss: 2.6270\n",
            "Epoch 14/50\n",
            "32/32 [==============================] - 99s 3s/step - loss: 2.5895 - val_loss: 2.6294\n",
            "Epoch 15/50\n",
            "32/32 [==============================] - 99s 3s/step - loss: 2.5424 - val_loss: 2.6330\n",
            "Epoch 00015: early stopping\n"
          ],
          "name": "stdout"
        }
      ]
    },
    {
      "cell_type": "code",
      "metadata": {
        "colab": {
          "base_uri": "https://localhost:8080/"
        },
        "id": "HM2OQ_NKZZic",
        "outputId": "497b75ed-a0a8-40c5-b1e7-c1c8c58d2113"
      },
      "source": [
        "# !pip install -U -q PyDrive\r\n",
        "from pydrive.auth import GoogleAuth\r\n",
        "from pydrive.drive import GoogleDrive\r\n",
        "from google.colab import auth\r\n",
        "from oauth2client.client import GoogleCredentials\r\n",
        "\r\n",
        "# 1. Authenticate and create the PyDrive client.\r\n",
        "auth.authenticate_user()\r\n",
        "gauth = GoogleAuth()\r\n",
        "gauth.credentials = GoogleCredentials.get_application_default()\r\n",
        "drive = GoogleDrive(gauth)\r\n",
        "\r\n",
        "# 2. Save Keras Model or weights on google drive\r\n",
        "\r\n",
        "# create on Colab directory\r\n",
        "model.save('text_summary.h5')    \r\n",
        "model_file = drive.CreateFile({'title' : 'text_summary.h5'})\r\n",
        "model_file.SetContentFile('text_summary.h5')\r\n",
        "model_file.Upload()\r\n",
        "\r\n",
        "# download to google drive\r\n",
        "drive.CreateFile({'id': model_file.get('id')})"
      ],
      "execution_count": 64,
      "outputs": [
        {
          "output_type": "execute_result",
          "data": {
            "text/plain": [
              "GoogleDriveFile({'id': '1tvXDlH-P7OArjcO7ln1NUD2uoIUafb7Y'})"
            ]
          },
          "metadata": {
            "tags": []
          },
          "execution_count": 64
        }
      ]
    },
    {
      "cell_type": "code",
      "metadata": {
        "colab": {
          "base_uri": "https://localhost:8080/",
          "height": 265
        },
        "id": "H384XHOhZh8S",
        "outputId": "ec7c91b8-65e4-46e2-c7dc-21a2537b29b2"
      },
      "source": [
        "\r\n",
        "from matplotlib import pyplot\r\n",
        "pyplot.plot(history.history['loss'], label='train')\r\n",
        "pyplot.plot(history.history['val_loss'], label='test')\r\n",
        "pyplot.legend()\r\n",
        "pyplot.show()\r\n"
      ],
      "execution_count": 65,
      "outputs": [
        {
          "output_type": "display_data",
          "data": {
            "image/png": "[encoded data removed]",
            "text/plain": [
              "<Figure size 432x288 with 1 Axes>"
            ]
          },
          "metadata": {
            "tags": [],
            "needs_background": "light"
          }
        }
      ]
    },
    {
      "cell_type": "code",
      "metadata": {
        "id": "yCKhYi2zZk1O"
      },
      "source": [
        "\r\n",
        "reverse_target_word_index=y_tokenizer.index_word\r\n",
        "reverse_source_word_index=x_tokenizer.index_word\r\n",
        "target_word_index=y_tokenizer.word_index\r\n",
        "\r\n",
        "# Encode the input sequence to get the feature vector\r\n",
        "encoder_model = Model(inputs=encoder_inputs,outputs=[encoder_outputs, state_h, state_c])\r\n",
        "\r\n",
        "# Decoder setup\r\n",
        "# Below tensors will hold the states of the previous time step\r\n",
        "decoder_state_input_h = Input(shape=(latent_dim,))\r\n",
        "decoder_state_input_c = Input(shape=(latent_dim,))\r\n",
        "decoder_hidden_state_input = Input(shape=(max_text_len,latent_dim))\r\n",
        "\r\n",
        "# Get the embeddings of the decoder sequence\r\n",
        "dec_emb2= dec_emb_layer(decoder_inputs) \r\n",
        "# To predict the next word in the sequence, set the initial states to the states from the previous time step\r\n",
        "decoder_outputs2, state_h2, state_c2 = decoder_lstm(dec_emb2, initial_state=[decoder_state_input_h, decoder_state_input_c])\r\n",
        "\r\n",
        "#attention inference\r\n",
        "attn_out_inf, attn_states_inf = attn_layer([decoder_hidden_state_input, decoder_outputs2])\r\n",
        "decoder_inf_concat = Concatenate(axis=-1, name='concat')([decoder_outputs2, attn_out_inf])\r\n",
        "\r\n",
        "# A dense softmax layer to generate prob dist. over the target vocabulary\r\n",
        "decoder_outputs2 = decoder_dense(decoder_inf_concat) \r\n",
        "\r\n",
        "# Final decoder model\r\n",
        "decoder_model = Model(\r\n",
        "    [decoder_inputs] + [decoder_hidden_state_input,decoder_state_input_h, decoder_state_input_c],\r\n",
        "    [decoder_outputs2] + [state_h2, state_c2])\r\n",
        "\r\n",
        "def decode_sequence(input_seq):\r\n",
        "    # Encode the input as state vectors.\r\n",
        "    e_out, e_h, e_c = encoder_model.predict(input_seq)\r\n",
        "    \r\n",
        "    # Generate empty target sequence of length 1.\r\n",
        "    target_seq = np.zeros((1,1))\r\n",
        "    \r\n",
        "    # Populate the first word of target sequence with the start word.\r\n",
        "    target_seq[0, 0] = target_word_index['sostok']\r\n",
        "\r\n",
        "    stop_condition = False\r\n",
        "    decoded_sentence = ''\r\n",
        "    while not stop_condition:\r\n",
        "      \r\n",
        "        output_tokens, h, c = decoder_model.predict([target_seq] + [e_out, e_h, e_c])\r\n",
        "\r\n",
        "        # Sample a token\r\n",
        "        sampled_token_index = np.argmax(output_tokens[0, -1, :])\r\n",
        "        sampled_token = reverse_target_word_index[sampled_token_index]\r\n",
        "        \r\n",
        "        if(sampled_token!='eostok'):\r\n",
        "            decoded_sentence += ' '+sampled_token\r\n",
        "\r\n",
        "        # Exit condition: either hit max length or find stop word.\r\n",
        "        if (sampled_token == 'eostok'  or len(decoded_sentence.split()) >= (max_headlines_len-1)):\r\n",
        "            stop_condition = True\r\n",
        "\r\n",
        "        # Update the target sequence (of length 1).\r\n",
        "        target_seq = np.zeros((1,1))\r\n",
        "        target_seq[0, 0] = sampled_token_index\r\n",
        "\r\n",
        "        # Update internal states\r\n",
        "        e_h, e_c = h, c\r\n",
        "\r\n",
        "    return decoded_sentence\r\n",
        "\r\n",
        "def seq2summary(input_seq):\r\n",
        "    newString=''\r\n",
        "    for i in input_seq:\r\n",
        "        if((i!=0 and i!=target_word_index['sostok']) and i!=target_word_index['eostok']):\r\n",
        "            newString=newString+reverse_target_word_index[i]+' '\r\n",
        "    return newString\r\n",
        "\r\n",
        "def seq2text(input_seq):\r\n",
        "    newString=''\r\n",
        "    for i in input_seq:\r\n",
        "        if(i!=0):\r\n",
        "            newString=newString+reverse_source_word_index[i]+' '\r\n",
        "    return newString"
      ],
      "execution_count": 66,
      "outputs": []
    },
    {
      "cell_type": "code",
      "metadata": {
        "colab": {
          "base_uri": "https://localhost:8080/"
        },
        "id": "EYEnH70tZwBk",
        "outputId": "2b5f2403-c010-4cf2-8e4c-db3464dbae94"
      },
      "source": [
        "for i in range(0,100):\r\n",
        "    print(\"Review:\",seq2text(x_tr[i]))\r\n",
        "    print(\"Original summary:\",seq2summary(y_tr[i]))\r\n",
        "    print(\"Predicted summary:\",decode_sequence(x_tr[i].reshape(1,max_text_len)))\r\n",
        "    print(\"\\n\")"
      ],
      "execution_count": 67,
      "outputs": [
        {
          "output_type": "stream",
          "text": [
            "Review: police banned groups leone citing public order safety police accused people groups traffic vehicles playing music property members public said violators according law warned \n",
            "Original summary: bans in \n",
            "Predicted summary:  to india in\n",
            "\n",
            "\n",
            "Review: day union minister ravi shankar prasad given muslims proper despite getting votes remark aimim chief asaduddin owaisi said minister say bjp gave us constitution gave owaisi said government parties come go constitution remain supreme \n",
            "Original summary: who is bjp to give to muslims asks owaisi \n",
            "Predicted summary:  bjp to be bjp bjp bjp to bjp\n",
            "\n",
            "\n",
            "Review: actress priyanka chopra slammed allegedly getting job shared picture instagram recently users claimed looked user commented priyanka chopra plastic beauty another user wrote even get done look nn \n",
            "Original summary: priyanka slammed for alleged job in picture \n",
            "Predicted summary:  pic to not theatres\n",
            "\n",
            "\n",
            "Review: delhi reported rape every five hours 2016 total number cases declined 2 2 last year city police data shown however 1 86 registered cases molestation case registered every three hours taking number cases 4 year \n",
            "Original summary: a woman gets raped every 5 hrs in the delhi police \n",
            "Predicted summary:  man arrested for delhi in\n",
            "\n",
            "\n",
            "Review: hollywood director best known directing 1991 oscar winning film 'the silence passed away wednesday age 73 passed away cancer said films directed include 1984 \n",
            "Original summary: winning director passes away at \n",
            "Predicted summary:  i not my my\n",
            "\n",
            "\n",
            "Review: singer ed sheeran responding performing live concert tweeted never thought would explain everything live show live station backing track sheeran accused using backing tracks seen playing guitar sound heard concert n \n",
            "Original summary: to of not live in \n",
            "Predicted summary:  to not to be\n",
            "\n",
            "\n",
            "Review: homeless brings food cooking takes break us authorities said bad thing house official said referring break 33 year old accused merchant charged three counts two counts breaking entering \n",
            "Original summary: food takes during break \n",
            "Predicted summary:  i not not my\n",
            "\n",
            "\n",
            "Review: iran appointed first female ceo lead national carrier iran air since airline forty four year old also phd engineering first woman head iran air 70 years appointed president administration chosen women lead several posts \n",
            "Original summary: 1st female ceo of national in history \n",
            "Predicted summary:  india to be in\n",
            "\n",
            "\n",
            "Review: collision tuesday indigo spicejet aircraft came face face runway delhi indira gandhi international airport incident took place indigo flight headed towards landing spicejet aircraft take directorate general civil aviation ordered probe incident \n",
            "Original summary: aircraft come face to face at delhi airport \n",
            "Predicted summary:  to india to\n",
            "\n",
            "\n",
            "Review: j k chief minister mehbooba mufti saturday blamed external forces creating unrest state said militants coming outside unfortunately even china started interfering mufti comments came meeting home minister rajnath singh terror attack eight amarnath pilgrims killed \n",
            "Original summary: claims chinese in j k \n",
            "Predicted summary:  man to old k in j k\n",
            "\n",
            "\n",
            "Review: firm tech mahindra said sees proposed merger telcos vodafone idea event impact sector asserted benefit deal big market people together change tech mahindra ceo stated \n",
            "Original summary: says it will from vodafone idea merger \n",
            "Predicted summary:  i am my my in\n",
            "\n",
            "\n",
            "Review: supreme court wednesday ordered ban registration sale vehicles older bharat stage iii bs iii emission norms april 1 supreme court asserted health millions important commercial interests notably bs iv norms introduced 2010 nationwide rollout expected april 1 \n",
            "Original summary: sc bans sale of vehicles from april 1 \n",
            "Predicted summary:  delhi govt to be in\n",
            "\n",
            "\n",
            "Review: newly appointed president ram nath kovind first uttar pradesh hold country highest post previous presidents records dr rajendra prasad president elected thrice reddy president elected abdul kalam presidents \n",
            "Original summary: kovind is the first indian president from uttar pradesh \n",
            "Predicted summary:  bjp cm to be bjp in bjp\n",
            "\n",
            "\n",
            "Review: global banking giant tax authorities india allegedly tax evasion four indians families lender said received notices tax department authorities bank also approached countries information people named panama papers \n",
            "Original summary: being for tax by four indians \n",
            "Predicted summary:  indian to be to be\n",
            "\n",
            "\n",
            "Review: case registered congress leader rohit tilak great grandson tilak allegedly raping woman forcing according complainant tilak repeatedly raped pretext marrying various charges including rape offences voluntarily causing hurt slapped \n",
            "Original summary: great booked for rape \n",
            "Predicted summary:  sc to be in\n",
            "\n",
            "\n",
            "Review: criticising chief minister bjp mp yogi adityanath monday said parents naming sons akhilesh akhilesh alleged also accused government terrorists anti whatever scheme government ran particular community added \n",
            "Original summary: will not name their akhilesh now adityanath \n",
            "Predicted summary:  bjp to be bjp bjp bjp to be kejriwal\n",
            "\n",
            "\n",
            "Review: bihar living one room house equipped four led tv ceiling fan served electricity bill 13 lakh later got 2 power firm issue months bill changing faulty metre within six hours soon media intervened \n",
            "Original summary: bihar man gets bill to \n",
            "Predicted summary:  indian to old in\n",
            "\n",
            "\n",
            "Review: tamil nadu cricket association written bcci citing host two u 19 test matches india england chennai next month led ex bcci president n listed various domestic programs scheduled period reason hosting tests reportedly refusal came met sacked bcci president anurag thakur \n",
            "Original summary: tamil nadu cricket refuses to host u 19 tests \n",
            "Predicted summary:  sc to be to be\n",
            "\n",
            "\n",
            "Review: easyjet seeking worker france nice airport punched passenger holding baby terminal 13 hour delay picture incident circulated online man went talked reply guy another passenger said \n",
            "Original summary: man with baby by airport staff after a 13 delay \n",
            "Predicted summary:  man to be in\n",
            "\n",
            "\n",
            "Review: boxer floyd mayweather called fighter mcgregor accused racism last leg three country tour london friday totally black women called black people spoke mother daughter certain levels said mayweather \n",
            "Original summary: calls uses \n",
            "Predicted summary:  to india to\n",
            "\n",
            "\n",
            "Review: bjp leader sinha called lk advani father figure said veteran leader first last choice president post advani far others election done direct voting people people people sinha tweeted \n",
            "Original summary: advani name for next president \n",
            "Predicted summary:  bjp to be bjp bjp bjp to bjp\n",
            "\n",
            "\n",
            "Review: expressing support bihar cm nitish kumar resignation pm narendra modi tweeted congratulations nitish kumar joining fight corruption added 125 crore citizens country welcome support honesty kumar submitted resignation governor nath tripathi citing crisis ruling congress rjd jd u alliance \n",
            "Original summary: pm modi support for cm nitish after resignation \n",
            "Predicted summary:  nitish kumar nitish bjp bjp nitish\n",
            "\n",
            "\n",
            "Review: couple got married tuesday morning outside polling station wearing wedding cast votes brihanmumbai municipal corporation bmc polls relatives objected us leaving rituals convinced finally allowed go polling groom said \n",
            "Original summary: married couple up to cast votes in bmc polls \n",
            "Predicted summary:  bjp mla to be bjp in bjp\n",
            "\n",
            "\n",
            "Review: border roads organisation reportedly construct two arunachal pradesh pass cut distance china border 10 km would reduce travel time least hour ensure 171 km stretch remain weather conditions \n",
            "Original summary: proposed in to cut to china border \n",
            "Predicted summary:  to india to\n",
            "\n",
            "\n",
            "Review: actor tiger shroff said brother kind person wants sister added know saying people say sexist ' called names care tiger sister krishna shroff three years younger \n",
            "Original summary: i am want to my sister in tiger \n",
            "Predicted summary:  i am my my big a\n",
            "\n",
            "\n",
            "Review: council indian school certificate examinations decided make digital copies available candidates along traditional hard copies year students access anywhere service providing dedicated personal electronic space government owned public storage \n",
            "Original summary: students to get from this year \n",
            "Predicted summary:  to india to\n",
            "\n",
            "\n",
            "Review: according national crime records bureau data one 100 sexual assault cases karnataka ended conviction 2015 national average 10 conviction number sexual assault cases reported india rose 92 42 2011 82 2015 conviction rate declined 16 2011 10 2015 \n",
            "Original summary: 1 in 100 in k'taka end in report \n",
            "Predicted summary:  indian to be in\n",
            "\n",
            "\n",
            "Review: centre friday told supreme court able secure liquor baron vijay mallya owes 9 000 crore banks january 2018 centre response came sc said cannot sentence mallya contempt court case absence notably mallya fled uk march 2016 \n",
            "Original summary: centre tells sc it can t mallya before jan 2018 \n",
            "Predicted summary:  bjp cm cm to sc\n",
            "\n",
            "\n",
            "Review: 32 year old man chennai carrying 2 kg drug arrested mumbai airport saturday air intelligence unit said accused set travel malaysia may working drugs worth 2 crore found bag hidden made \n",
            "Original summary: man carrying drugs worth 2 crore arrested at mumbai airport \n",
            "Predicted summary:  delhi in delhi\n",
            "\n",
            "\n",
            "Review: currency notes worth 66 000 owner monday farmer kumar pal raised alarm managed save 4 000 said people suggested sell however pal wife said cannot pet like child \n",
            "Original summary: up 000 he says like my \n",
            "Predicted summary:  man to be in\n",
            "\n",
            "\n",
            "Review: 44 year old man arrested maharashtra police giving advertisement marathi newspaper asking people contact wanted convert old currency notes new advertisement appeared edition newspaper december 14 16 police traced accused contact details mentioned advertisement \n",
            "Original summary: man held for to old notes \n",
            "Predicted summary:  man to old in old in\n",
            "\n",
            "\n",
            "Review: case registered telugu actor rao hyderabad police following woman complaint actor women fit sex men remark booked sections 4 indian code deal sexual harassment insulting woman \n",
            "Original summary: telugu actor booked for only for remark \n",
            "Predicted summary:  i am will be if be if be shah\n",
            "\n",
            "\n",
            "Review: civic agencies begin anti cleanliness drive monday delhi netaji marg road front red fort per reports plan stop entry non vehicles one way traffic arrangement put place vehicles going masjid chandni chowk area \n",
            "Original summary: road in front of delhi red to be \n",
            "Predicted summary:  to india to be\n",
            "\n",
            "\n",
            "Review: slamming art living founder sri sri ravi shankar national green tribunal told sense responsibility think liberty say whatever want comes sri sri said ngt government fined allowing foundation festival yamuna floodplains march 2016 \n",
            "Original summary: you think you can say you want asks sri sri \n",
            "Predicted summary:  bjp cm to be bjp in bjp\n",
            "\n",
            "\n",
            "Review: singer kailash kher slammed actress sonakshi sinha selection opening act justin bieber upcoming mumbai concert added actors selected perform international singers instead indian singers event organisers scared give good message think sonakshi must big singer india said kailash n \n",
            "Original summary: slams on being for \n",
            "Predicted summary:  to not for\n",
            "\n",
            "\n",
            "Review: anil ambani led reliance communications said told would repay 25 000 crore september 30 2017 amount expected generated two business deals notably reliance net debt stood 44 30 crore march 31 reports said loan 10 banks \n",
            "Original summary: will 25 000 crore by 30 tells \n",
            "Predicted summary:  to india to be\n",
            "\n",
            "\n",
            "Review: reacting music composer ar rahman slammed fans singing tamil songs concert july 8 actress priyanka chopra said fans slammed rahman others also defended twitter suggest rahman performed 12 tamil songs 16 songs hindi concert \n",
            "Original summary: it is priyanka on fans for tamil \n",
            "Predicted summary:  i am my my on\n",
            "\n",
            "\n",
            "Review: tesla co founder ceo elon musk described task meeting set goals production model 3 cars manufacturing hell reservations car 5 lakh according tesla chief executive officer comes launch tesla model 3 friday range km one charge \n",
            "Original summary: we will go through ceo \n",
            "Predicted summary:  i not not not\n",
            "\n",
            "\n",
            "Review: sc friday upheld four nirbhaya gangrape death penalty put delhi tihar jail notably one convicts case committed suicide march 2013 another one attempted suicide 2016 four convicts file review petition apex court verdict \n",
            "Original summary: rape on after sc \n",
            "Predicted summary:  sc to be in j k\n",
            "\n",
            "\n",
            "Review: businessman vijay mallya wanted india foreign exchange violation debt recovery related cases spotted india pakistan champions trophy match birmingham sunday mallya fled uk march last year currently bail arrested scotland april mallya owes indian banks approximately 9 000 crore interest \n",
            "Original summary: vijay mallya at india pakistan match \n",
            "Predicted summary:  sc to be in india\n",
            "\n",
            "\n",
            "Review: police arrested two kerala men near goa capital monday allegedly contained islamic state symbol message titled isis kannada language convention muslims held karnataka january arrested persons identified abdul \n",
            "Original summary: 2 held in goa for with isis \n",
            "Predicted summary:  man man arrested for in\n",
            "\n",
            "\n",
            "Review: kerala based said made man donate 25 000 charity shared number whatsapp group saying available men began calling ceo educational firm asking rate later discovered shared number threatened complain donate charity \n",
            "Original summary: woman makes man give to charity for calling her \n",
            "Predicted summary:  sc to be in sc\n",
            "\n",
            "\n",
            "Review: 64 year old woman believed become oldest mother china give birth 64 year old delivered boy weighing 3 7 kilograms section receiving abroad husband decided baby lost first child according reports \n",
            "Original summary: year old becomes oldest mother in china to baby \n",
            "Predicted summary:  man to old in\n",
            "\n",
            "\n",
            "Review: prime minister narendra modi wednesday inaugurated patanjali research institute patanjali haridwar patanjali research institute first organisation india conduct trials per international standards field must never forget spirit modi said \n",
            "Original summary: pm modi in \n",
            "Predicted summary:  to not to be\n",
            "\n",
            "\n",
            "Review: delhi civic agencies planning launch mobile app within next two months help locate public toilets run municipal corporation delhi mcd reports said app allow users give feedback condition toilets rating scale happy happy \n",
            "Original summary: delhi to launch mobile app to mcd toilets \n",
            "Predicted summary:  delhi to old in\n",
            "\n",
            "\n",
            "Review: central drugs standard control organisation sale distribution drugs india reportedly found medicines like pain cold total cold medicine along drugs organisation issued alert 55 drugs failed different tests march report stated \n",
            "Original summary: found by drug \n",
            "Predicted summary:  to india to\n",
            "\n",
            "\n",
            "Review: asserting rift within party aiadmk general secretary sasikala natarajan tuesday accused tamil nadu cm panneerselvam acting dmk calling aiadmk united single family sasikala removed panneerselvam post party came claimed forced step cm \n",
            "Original summary: at sasikala \n",
            "Predicted summary:  bjp kejriwal to be bjp bjp bjp\n",
            "\n",
            "\n",
            "Review: self email prankster known twitter fooled recently fired white house communications director anthony scaramucci thrice prankster fooled scaramucci posing recently fired chief staff priebus russian finally one friends prankster said targeted scaramucci used mental health issues put \n",
            "Original summary: fired trump media chief \n",
            "Predicted summary:  trump to be in\n",
            "\n",
            "\n",
            "Review: actress madhuri said rumoured ex boyfriend sanjay dutt present times madhuri said response reports stated asked filmmaker rajkumar hirani remove alleged relationship dutt upcoming biopic sanjay madhuri rumoured dating \n",
            "Original summary: is on rumoured ex boyfriend dutt \n",
            "Predicted summary:  pic to not theatres\n",
            "\n",
            "\n",
            "Review: following amid telcos due competition jio telecom secretary js deepak said good india likely get four private one government player ideal indian telecom market likely five major players ensuring enough competition said adding \n",
            "Original summary: due to jio is says secretary \n",
            "Predicted summary:  to not to be\n",
            "\n",
            "\n",
            "Review: andhra pradesh finance minister wednesday said demonetisation reduced state revenue 30 hoped implementation goods services tax might help increase government income adding people faced problems due note ban said government need take measures revenues economic growth \n",
            "Original summary: note ban has andhra by 30 state minister \n",
            "Predicted summary:  sc to be in\n",
            "\n",
            "\n",
            "Review: poster ranbir kapoor katrina kaif starrer 'jagga jasoos' revealed monday motion pictures alongside tweet sometimes fastest film ranbir plays tries find father directed anurag basu scheduled release april 7 2017 \n",
            "Original summary: poster of ranbir katrina \n",
            "Predicted summary:  pic to pic of pic\n",
            "\n",
            "\n",
            "Review: american journalist kelly trolled twitter asking india pm narendra modi twitter referred recent tweet done ms kelly subjects well tweet read citing kelly modi twitter followers another user tweeted 2 followers \n",
            "Original summary: us for modi are you on twitter \n",
            "Predicted summary:  modi is not not modi on\n",
            "\n",
            "\n",
            "Review: picture kangana ranaut wearing appears like costume surfaced online reports suggest picture sets upcoming film directed hansal mehta film reportedly inspired life nurse sent prison robbing banks pay gambling debts \n",
            "Original summary: pic of kangana in online \n",
            "Predicted summary:  pic to not theatres\n",
            "\n",
            "\n",
            "Review: shah chief terrorist organisation lashkar e taiba let official statement said sacrifice let commander junaid militants killed encounter indian armed forces go meanwhile let spokesperson dr abdullah called india cancer adding shall soon witness india burning \n",
            "Original summary: will not go in lashkar chief \n",
            "Predicted summary:  bjp cm to bjp bjp bjp bjp\n",
            "\n",
            "\n",
            "Review: union minister mahesh sharma thursday said today among us another form prime minister narendra modi like inspiration added pm started promise freedom would reach every person country dream fulfil \n",
            "Original summary: we have gandhi in pm modi minister \n",
            "Predicted summary:  bjp to be bjp to be\n",
            "\n",
            "\n",
            "Review: bjp led nda monday announced union information broadcasting minister venkaiah naidu candidate upcoming vice presidential elections naidu contest congress led opposition candidate gandhi mahatma gandhi grandson voting scheduled august 5 current vice president hamid ansari term end august 10 \n",
            "Original summary: naidu declared nda candidate for president \n",
            "Predicted summary:  bjp cm to bjp bjp bjp cm\n",
            "\n",
            "\n",
            "Review: west bengal cm mamata banerjee tuesday visited house crpf jawan kk das martyred naxal attack chhattisgarh sukma district 25 jawans martyred attack three west bengal banerjee announced financial aid 5 lakh kin three slain jawans \n",
            "Original summary: mamata visits crpf jawan house in wb \n",
            "Predicted summary:  bjp kejriwal to bjp bjp bjp cm\n",
            "\n",
            "\n",
            "Review: supreme court slammed election commission wednesday latter said cannot take stand whether ban convicted politicians contesting polls life silence option must say either silent please let us know bench said \n",
            "Original summary: how can you be sc to ec on life ban \n",
            "Predicted summary:  bjp cm to be bjp bjp bjp\n",
            "\n",
            "\n",
            "Review: maharashtra government launched scheme cover medical insurance 10 lakh sitting legislators former legislators families reportedly aimed use fake bills medical scheme legislators covered earlier insurance scheme cost state almost 10 crore year \n",
            "Original summary: maharashtra announces free insurance scheme for \n",
            "Predicted summary:  to india to be\n",
            "\n",
            "\n",
            "Review: filmmaker kabir khan speaking salman khan starrer film tubelight performance box office said however added unfair pitch every film 2015 film also starred salman notably 'tubelight' became salman khan lowest eid opening four years \n",
            "Original summary: i am khan on \n",
            "Predicted summary:  i am my my on a\n",
            "\n",
            "\n",
            "Review: members bharatiya bar girls union maharashtra monday said supreme court prevailing ban like atmosphere state could push bar dancers activities like prostitution union court bars 2005 left 75 000 female workers \n",
            "Original summary: ban may into union to sc \n",
            "Predicted summary:  sc to be to be\n",
            "\n",
            "\n",
            "Review: leader opposition delhi assembly vijender gupta monday said aam aadmi party aap legislators cross voted favour nda presidential candidate ram nath kovind number mlas already threatened vote upa candidate realised kejriwal asked vote per conscience gupta added \n",
            "Original summary: aap mlas cross in presidential polls bjp \n",
            "Predicted summary:  aap kejriwal to sasikala against bjp\n",
            "\n",
            "\n",
            "Review: actor sushant singh rajput said attending award show win award feels slightly bit could nice feeling added notably sushant named choice best actor star screen awards playing role dhoni \n",
            "Original summary: i when i do not win an award sushant \n",
            "Predicted summary:  pic to not theatres\n",
            "\n",
            "\n",
            "Review: per reports shahid kapoor sister kapoor got engaged actor low key ceremony earlier month son actors manoj known role doordarshan series reportedly news engagement accidentally revealed late om puri estranged wife nn \n",
            "Original summary: shahid sister to actor report \n",
            "Predicted summary:  i am my my on a\n",
            "\n",
            "\n",
            "Review: delhi lawyer rohit tandon arrested enforcement directorate illegal conversion old notes worth 60 crore raid conducted tandon office earlier month 13 5 crore cash seized among 2 6 crore new kotak mahindra bank branch manager also arrested notes tandon \n",
            "Original summary: delhi lawyer held for black money of over 60 cr \n",
            "Predicted summary:  delhi in delhi\n",
            "\n",
            "\n",
            "Review: team india newly appointed bowling coach bharat arun coaching career started 2002 tamil nadu ranji side team represented player arun led tamil nadu two ranji finals 4 year team arun also india 19 team helping win u 19 world cup 2012 \n",
            "Original summary: who is indian cricket team new bowling coach \n",
            "Predicted summary:  kohli to be as\n",
            "\n",
            "\n",
            "Review: reacting meeting president pranab mukherjee tibetan spiritual leader dalai lama last week china said strongly opposed engagement would negative impact indo relations urge indian side see anti china separatist nature dalai lama chinese foreign ministry stated \n",
            "Original summary: india s with will hit china \n",
            "Predicted summary:  bjp to be to be\n",
            "\n",
            "\n",
            "Review: central railway collaboration private organisation established rupee 14 different stations mumbai maharashtra charge 1 provide medical services clinics set bombay high court ordered railways citing lack medical help case accidents railway tracks \n",
            "Original summary: 1 come up at 14 railway stations in mumbai \n",
            "Predicted summary:  man to old in\n",
            "\n",
            "\n",
            "Review: rajasthan bjp mla refused pay toll jaipur highway entered toll plaza employee according india today bjp leader reportedly pushed away employee came front vehicle said ready fight vehicles go like \n",
            "Original summary: bjp mla refuses to pay toll says he is to fight \n",
            "Predicted summary:  bjp to be bjp to be\n",
            "\n",
            "\n",
            "Review: dig prison roopa written report wherein mentioned aiadmk chief vk sasikala paid prison officials bribe 2 crore get special treatment jail added sasikala separate prison gets special menu every day food special chefs \n",
            "Original summary: sasikala paid for special jail report \n",
            "Predicted summary:  bjp cm to be bjp bjp bjp\n",
            "\n",
            "\n",
            "Review: actor das known roles films television series passed away aged 56 prolonged illness due cancer undergoing treatment mumbai hospital known playing negative roles among popular films \n",
            "Original summary: actor passes away \n",
            "Predicted summary:  i not my my\n",
            "\n",
            "\n",
            "Review: terming tamil nadu government ordinance allow jallikattu temporary solution residents vowed allow conduct festival tamil nadu cm panneerselvam scheduled inaugurate bull taming festival sunday panneerselvam earlier promised pass new law upcoming assembly session allowing jallikattu \n",
            "Original summary: will not allow cm jallikattu event \n",
            "Predicted summary:  bjp cm to bjp bjp bjp bjp\n",
            "\n",
            "\n",
            "Review: group bengaluru started traveling campaign provide accommodation fans travelling watch india asian cup match republic bengaluru tuesday need check hotels brothers walk houses host said member group \n",
            "Original summary: for campaign for india match \n",
            "Predicted summary:  to india to be\n",
            "\n",
            "\n",
            "Review: sacked aap minister kapil mishra sunday accused aam aadmi party involved donation scam alleging party concealed actual amount donations used shell companies black money kejriwal associates part scam said also approach cbi documents \n",
            "Original summary: aap used fake to black money sacked aap min \n",
            "Predicted summary:  bjp cm to be bjp in bjp\n",
            "\n",
            "\n",
            "Review: reacting sexual harassment allegations tvf founder arunabh kumar comedian radhika thursday said personally know guy told old story everyone knew one talked added sad guys jeans harassing us said \n",
            "Original summary: old all no one about on tvf row \n",
            "Predicted summary:  kapil is not not a shah\n",
            "\n",
            "\n",
            "Review: shiv sena mp ravindra gaikwad banned flying major airlines assaulted air india staffer reportedly reached delhi via chartered flight wednesday flight believed provided shiv sena mp rajkumar previously spicejet air india indigo cancelled gaikwad tickets travelled delhi road \n",
            "Original summary: shiv sena mp reaches delhi flight \n",
            "Predicted summary:  bjp cm cm to bjp cm\n",
            "\n",
            "\n",
            "Review: bihar chief minister nitish kumar posted message online parties assembly elections five states analysing results jd u leader stated opposition raised demonetisation poor felt content exercise hurt rich \n",
            "Original summary: should not have and on note ban nitish \n",
            "Predicted summary:  bjp cm to be bjp bjp in bjp\n",
            "\n",
            "\n",
            "Review: video newborn baby walking minutes birth gone viral social media video 8 crore views facebook shows nurse supporting baby nurse heard saying girl walking good \n",
            "Original summary: baby after birth \n",
            "Predicted summary:  man to old in\n",
            "\n",
            "\n",
            "Review: swiss tennis star roger federer opponent wimbledon 2017 final croatia cilic seen crying second set sunday cilic take medical middle end second set 2014 us open winner left foot required treatment \n",
            "Original summary: federer mid match during wimbledon final \n",
            "Predicted summary:  pak to be in pak\n",
            "\n",
            "\n",
            "Review: bjp sunday called statewide strike kerala rss worker died allegedly attacked cpi workers thirty four year old e rajesh stabbed forty times left hand chopped men returning home attending meeting saturday reports said \n",
            "Original summary: bjp calls for strike in kerala over rss killing \n",
            "Predicted summary:  bjp cm bjp to bjp bjp bjp\n",
            "\n",
            "\n",
            "Review: producer filed petition claiming title story rajinikanth upcoming film belongs claimed film title registered south indian film chamber commerce alleged chamber misusing rules favour people asked court film makers shooting \n",
            "Original summary: plea filed against rajinikanth tamil film over its \n",
            "Predicted summary:  bjp kumar to be bjp in bjp\n",
            "\n",
            "\n",
            "Review: enforcement agencies recently discovered big monitor smuggled sold lucky better sex life men madhya pradesh special task force busted racket indore arresting three traders priest seized 68 pieces body part \n",
            "Original summary: sold to sex in mp \n",
            "Predicted summary:  man to be in\n",
            "\n",
            "\n",
            "Review: new airport project navi mumbai take away 250 hectares forest land hectares mangrove cover mangrove saplings planted across hectares play role 3 000 families 12 villages airport also directed \n",
            "Original summary: new mumbai airport to take away of land \n",
            "Predicted summary:  man to be in\n",
            "\n",
            "\n",
            "Review: five time world champion olympic bronze medalist given legends award international boxing federation body anniversary switzerland wednesday meanwhile asian bronze medalist yadav awarded pro boxing best boxer trophy two pro boxing year \n",
            "Original summary: given award by int'l body \n",
            "Predicted summary:  india to be in\n",
            "\n",
            "\n",
            "Review: kotak mahindra kotak said bjp win state polls positive economic reforms government focus animal spirits private sector invest w e need make sure focused growing economy getting private sector animal spirits back create jobs kotak said \n",
            "Original summary: get back private to govt \n",
            "Predicted summary:  india to be in\n",
            "\n",
            "\n",
            "Review: least 400 languages half languages spoken india 1 3 billion people may die next 50 years study people survey india stated claiming india already lost 250 languages last five decades survey said time language lost culture killed \n",
            "Original summary: more than of india may die in \n",
            "Predicted summary:  to india to\n",
            "\n",
            "\n",
            "Review: delhi high court tuesday observed way state would place live asking authorities find best practices followed elsewhere world bench hindus started opting electric may enough muslims \n",
            "Original summary: on the rise but no land to live delhi hc \n",
            "Predicted summary:  hc to be in\n",
            "\n",
            "\n",
            "Review: election commission barred madhya pradesh minister mishra contesting elections three years paid news allegations 2008 assembly polls complaint filed former congress mla rajendra bharti april 2009 mishra earlier approached mp high court seeking inquiry ec plea rejected \n",
            "Original summary: ec 3 year poll ban on mp minister over paid news \n",
            "Predicted summary:  bjp cm bjp to bjp bjp cm\n",
            "\n",
            "\n",
            "Review: twenty indian royal families present traditional part three day event new delhi october six luxury capable 35 represent heritage states also special performances local region \n",
            "Original summary: indian to \n",
            "Predicted summary:  to to\n",
            "\n",
            "\n",
            "Review: glass ceiling near entry gate 4 chennai airport fell 74th time year according reports notably national human rights commission april issued notices ministry civil aviation regard civil aviation ministry reportedly investigated airport asked authorities take steps \n",
            "Original summary: falls off for time at chennai airport \n",
            "Predicted summary:  delhi to old in\n",
            "\n",
            "\n",
            "Review: us president donald trump lead fbi rejected president claim inquiry alleged russian us election adding never allow fbi driven anything facts said would quit trump asks anything illegal \n",
            "Original summary: russia probe not trump \n",
            "Predicted summary:  trump to be in\n",
            "\n",
            "\n",
            "Review: department detected 16 200 crore worth black money conducting investigations global leaks indians funds abroad 8 200 crore undisclosed income brought tax last 2 years account deposits made foreign accounts government committed bring back black money stashed abroad said \n",
            "Original summary: i t dept 16 200 crore in black money \n",
            "Predicted summary:  delhi arrested for delhi\n",
            "\n",
            "\n",
            "Review: professor yash pal passed away 90 monday night noida hospital pal awarded padma bhushan padma 2013 known contribution study tata institute fundamental research also featured famous science series doordarshan \n",
            "Original summary: passes away at \n",
            "Predicted summary:  i not to be\n",
            "\n",
            "\n",
            "Review: telangana government soon launch bike help patients remote areas state health minister c reddy said tuesday would used remote tribal areas also localities cities like hyderabad added government increase number vehicles transporting bodies poor native places reddy said \n",
            "Original summary: telangana govt to launch \n",
            "Predicted summary:  to india to\n",
            "\n",
            "\n",
            "Review: malaika arora slammed instagram user trolled rich man fun life wearing short clothes going gym enjoying vacation user commented malaika responded certainly got get facts right know nothing \n",
            "Original summary: slams user who her for \n",
            "Predicted summary:  i not my my\n",
            "\n",
            "\n",
            "Review: former australian cricketer said indian team run ideas dismiss australian captain steve smith current border gavaskar test series smith highest scorer four match series runs including two centuries three tests far smith runs never ending said \n",
            "Original summary: india have run out of to smith \n",
            "Predicted summary:  kohli to be to be\n",
            "\n",
            "\n",
            "Review: bombay high court thursday state government demands noise pollution rules festival state government told cannot go high court judgment allow loudspeakers sound silence zone hour day \n",
            "Original summary: cannot rules during festival bombay hc \n",
            "Predicted summary:  hc to be in sc\n",
            "\n",
            "\n",
            "Review: many 24 6 police personnel recently injured stone pelting mob uttar pradesh alleged attack happened yatris played music passing muslim locality police resort charge disperse crowd \n",
            "Original summary: 24 6 security personnel injured in \n",
            "Predicted summary:  man in delhi in\n",
            "\n",
            "\n",
            "Review: pakistan military said statement wednesday firing indian side claimed lives soldier two civilians added seven others including two soldiers injured firing across line control loc said attack leading forces returning fire \n",
            "Original summary: pak claims firing by indian killed 2 \n",
            "Predicted summary:  indian to be in india\n",
            "\n",
            "\n"
          ],
          "name": "stdout"
        }
      ]
    },
    {
      "cell_type": "code",
      "metadata": {
        "id": "gvKvrcC2a406"
      },
      "source": [
        ""
      ],
      "execution_count": 67,
      "outputs": []
    }
  ]
}