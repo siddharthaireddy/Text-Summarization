{
 "cells": [
  {
   "cell_type": "code",
   "execution_count": 1,
   "metadata": {},
   "outputs": [
    {
     "name": "stderr",
     "output_type": "stream",
     "text": [
      "Using TensorFlow backend.\n",
      "[nltk_data] Downloading package stopwords to\n",
      "[nltk_data]     C:\\Users\\user\\AppData\\Roaming\\nltk_data...\n",
      "[nltk_data]   Package stopwords is already up-to-date!\n",
      "[nltk_data] Downloading package punkt to\n",
      "[nltk_data]     C:\\Users\\user\\AppData\\Roaming\\nltk_data...\n",
      "[nltk_data]   Package punkt is already up-to-date!\n",
      "c:\\users\\user\\anaconda3\\envs\\tf\\lib\\site-packages\\ipykernel_launcher.py:44: FutureWarning: Passing a negative integer is deprecated in version 1.0 and will not be supported in future version. Instead, use None to not limit the column width.\n"
     ]
    }
   ],
   "source": [
    "import numpy as np \n",
    "import pandas as pd \n",
    "import seaborn as sns\n",
    "import os\n",
    "import glob\n",
    "from string import digits\n",
    "import matplotlib.pyplot as plt\n",
    "%matplotlib inline\n",
    "\n",
    "\n",
    "from keras.models import Model\n",
    "from keras.layers import Input, LSTM, Dense\n",
    "from keras.utils import *\n",
    "from keras.initializers import *\n",
    "import tensorflow as tf\n",
    "import time, random\n",
    "import re\n",
    "import string\n",
    "\n",
    "from string import digits\n",
    "from keras.optimizers import Adam\n",
    "\n",
    "\n",
    "\n",
    "from sklearn.utils import shuffle\n",
    "from sklearn.model_selection import train_test_split\n",
    "from keras.layers import Input, LSTM, Embedding, Dense\n",
    "from keras.models import Model\n",
    "\n",
    "from tensorflow.keras.preprocessing.sequence import pad_sequences\n",
    "import nltk\n",
    "from nltk.tokenize import RegexpTokenizer\n",
    "from nltk.tokenize import word_tokenize\n",
    "nltk.download('stopwords')\n",
    "nltk.download('punkt')\n",
    "\n",
    "from collections import Counter\n",
    "from nltk.corpus import stopwords \n",
    "from nltk.tokenize import word_tokenize\n",
    "\n",
    "pd.set_option('display.max_rows', 500)\n",
    "pd.set_option('display.max_columns', 500)\n",
    "pd.set_option('display.width', 1000)\n",
    "pd.set_option('display.max_colwidth', -1)"
   ]
  },
  {
   "cell_type": "code",
   "execution_count": 2,
   "metadata": {},
   "outputs": [
    {
     "name": "stdout",
     "output_type": "stream",
     "text": [
      "C:\\Users\\user\\siddhartha_ireddy\\cnn_dm\\short_stories\n"
     ]
    }
   ],
   "source": [
    "import os\n",
    "short_files = []\n",
    "cwd = os.getcwd()\n",
    "\n",
    "#name of the folder having data set in the directory\n",
    "path = cwd+'\\\\short_stories'\n",
    "os.listdir() \n",
    "\n",
    "print(path)\n",
    "\n",
    "# get data file names\n",
    "filenames = glob.glob(path + \"\\\\*.story\")\n",
    "\n",
    "for file in filenames:\n",
    "    with open(file, encoding=\"utf8\") as f1:\n",
    "        short_files.append(f1.read())"
   ]
  },
  {
   "cell_type": "code",
   "execution_count": 3,
   "metadata": {},
   "outputs": [
    {
     "data": {
      "text/plain": [
       "12500"
      ]
     },
     "execution_count": 3,
     "metadata": {},
     "output_type": "execute_result"
    }
   ],
   "source": [
    "len(short_files)"
   ]
  },
  {
   "cell_type": "code",
   "execution_count": 4,
   "metadata": {},
   "outputs": [],
   "source": [
    "def sent_split(a):\n",
    "  corrected = str(a)\n",
    "  corrected = re.sub(r\"\\b(CNN)\\b\",r\"\", corrected)\n",
    "  corrected = re.sub(r'([\"!?;])\\1+', r'\\1', corrected)\n",
    "  corrected = re.sub(r'\\{2,}', r'...', corrected)\n",
    "  corrected = re.sub(r\"//t\",r\"\\t\", corrected)\n",
    "  corrected = re.sub(r\"( )\\1+\",r\"\\1\", corrected)\n",
    "  corrected = re.sub(r\"(\\n)\\1+\",r\"\\1\", corrected)\n",
    "  corrected = re.sub(r\"(\\r)\\1+\",r\"\\1\", corrected)\n",
    "  corrected = re.sub(r\"(\\t)\\1+\",r\"\\1\", corrected)\n",
    "  corrected.translate(str.maketrans('', '', string.punctuation))\n",
    "  corrected = corrected.split(\"highlight\",maxsplit=1)\n",
    "  return corrected\n",
    "\n",
    "def sent_clean(b):\n",
    "  b = b.split(\"\\n\")\n",
    "  abc = [] \n",
    "  for j in b:\n",
    "    tokenizer = RegexpTokenizer(r'\\w+')\n",
    "    j = \" \".join(tokenizer.tokenize(j))\n",
    "    k_1 = []\n",
    "    if len(j)>1:\n",
    "      p = word_tokenize(j)\n",
    "      for i in p:\n",
    "        if i.lower() not in stop_words:\n",
    "          k_1.append(i.lower())\n",
    "    if len(k_1) > 0:\n",
    "      abc.append(\" \".join(k_1))\n",
    "  return \" \".join(abc)\n",
    "\n",
    "\n",
    "def highlight_clean(b):\n",
    "  abc = [] \n",
    "  \n",
    "  b = re.sub(r\"\\bhighlight\\b\",r\"\", b)\n",
    "  b = b.split(\"\\n\")\n",
    "  k_1 = []\n",
    "  for j in b:\n",
    "    tokenizer = RegexpTokenizer(r'\\w+')\n",
    "    j = \" \".join(tokenizer.tokenize(j))\n",
    "    k_1 = []\n",
    "    if len(j)>1:\n",
    "      p = word_tokenize(j)\n",
    "      for i in p:\n",
    "        if i.lower() not in stop_words:\n",
    "          k_1.append(i.lower())\n",
    "    if len(k_1) > 0:\n",
    "      abc.append(\" \".join(k_1))\n",
    "  return \" \".join(abc)"
   ]
  },
  {
   "cell_type": "code",
   "execution_count": 5,
   "metadata": {},
   "outputs": [],
   "source": [
    "stop_words = set(stopwords.words('english'))"
   ]
  },
  {
   "cell_type": "code",
   "execution_count": 6,
   "metadata": {},
   "outputs": [],
   "source": [
    "data_set = pd.DataFrame(columns=['sentence', 'highlight'])\n",
    "data_set_clean = pd.DataFrame(columns=['cleaned sentence', 'cleaned highlight'])"
   ]
  },
  {
   "cell_type": "code",
   "execution_count": null,
   "metadata": {},
   "outputs": [],
   "source": [
    "for i in range(len(short_files)):\n",
    "  data_set.loc[i,'sentence'] = sent_split(short_files[i])[0]\n",
    "  data_set.loc[i,'highlight'] = sent_split(short_files[i])[1]\n",
    "\n",
    "for i in range(len(short_files)):\n",
    "  data_set_clean.loc[i,'cleaned sentence'] = sent_clean(sent_split(short_files[i])[0])\n",
    "  data_set_clean.loc[i,'cleaned highlight'] = highlight_clean(sent_split(short_files[i])[1])"
   ]
  },
  {
   "cell_type": "code",
   "execution_count": null,
   "metadata": {},
   "outputs": [],
   "source": [
    "data_set_clean.head()"
   ]
  },
  {
   "cell_type": "code",
   "execution_count": 10,
   "metadata": {},
   "outputs": [
    {
     "data": {
      "text/plain": [
       "cleaned sentence     0\n",
       "cleaned highlight    0\n",
       "dtype: int64"
      ]
     },
     "execution_count": 10,
     "metadata": {},
     "output_type": "execute_result"
    }
   ],
   "source": [
    "data_set_clean.isnull().sum()"
   ]
  },
  {
   "cell_type": "code",
   "execution_count": 11,
   "metadata": {},
   "outputs": [],
   "source": [
    "data_set_clean.drop_duplicates(inplace=True)"
   ]
  },
  {
   "cell_type": "code",
   "execution_count": 12,
   "metadata": {},
   "outputs": [],
   "source": [
    "# Lowercase all characters\n",
    "data_set_clean['cleaned sentence'] = data_set_clean['cleaned sentence'].apply(lambda x: x.lower())\n",
    "data_set_clean['cleaned highlight'] = data_set_clean['cleaned highlight'].apply(lambda x: x.lower())"
   ]
  },
  {
   "cell_type": "code",
   "execution_count": 13,
   "metadata": {},
   "outputs": [],
   "source": [
    "# Remove quotes\n",
    "data_set_clean['cleaned sentence'] =data_set_clean['cleaned sentence'].apply(lambda x: re.sub(\"'\", '', x))\n",
    "data_set_clean['cleaned highlight'] =data_set_clean['cleaned highlight'].apply(lambda x: re.sub(\"'\", '', x))"
   ]
  },
  {
   "cell_type": "code",
   "execution_count": 14,
   "metadata": {},
   "outputs": [],
   "source": [
    "exclude = set(string.punctuation) # Set of all special characters\n",
    "# Remove all the special characters\n",
    "data_set_clean['cleaned sentence'] =data_set_clean['cleaned sentence'].apply(lambda x: ''.join(ch for ch in x if ch not in exclude))\n",
    "data_set_clean['cleaned highlight']=data_set_clean['cleaned highlight'].apply(lambda x: ''.join(ch for ch in x if ch not in exclude))"
   ]
  },
  {
   "cell_type": "code",
   "execution_count": 15,
   "metadata": {},
   "outputs": [],
   "source": [
    "# Remove all numbers from text\n",
    "remove_digits = str.maketrans('', '', digits)\n",
    "data_set_clean['cleaned sentence']=data_set_clean['cleaned sentence'].apply(lambda x: x.translate(remove_digits))\n",
    "data_set_clean['cleaned highlight']=data_set_clean['cleaned highlight'].apply(lambda x: x.translate(remove_digits))\n",
    "data_set_clean['cleaned highlight'] = data_set_clean['cleaned highlight'].apply(lambda x: re.sub(\"[२३०८१५७९४६]\", \"\", x))\n",
    "\n",
    "# Remove extra spaces\n",
    "data_set_clean['cleaned highlight']=data_set_clean['cleaned highlight'].apply(lambda x: x.strip())\n",
    "data_set_clean['cleaned sentence']=data_set_clean['cleaned sentence'].apply(lambda x: x.strip())\n",
    "data_set_clean['cleaned highlight']=data_set_clean['cleaned highlight'].apply(lambda x: re.sub(\" +\", \" \", x))\n",
    "data_set_clean['cleaned sentence']=data_set_clean['cleaned sentence'].apply(lambda x: re.sub(\" +\", \" \", x))\n"
   ]
  },
  {
   "cell_type": "code",
   "execution_count": 16,
   "metadata": {},
   "outputs": [
    {
     "data": {
      "text/html": [
       "<div>\n",
       "<style scoped>\n",
       "    .dataframe tbody tr th:only-of-type {\n",
       "        vertical-align: middle;\n",
       "    }\n",
       "\n",
       "    .dataframe tbody tr th {\n",
       "        vertical-align: top;\n",
       "    }\n",
       "\n",
       "    .dataframe thead th {\n",
       "        text-align: right;\n",
       "    }\n",
       "</style>\n",
       "<table border=\"1\" class=\"dataframe\">\n",
       "  <thead>\n",
       "    <tr style=\"text-align: right;\">\n",
       "      <th></th>\n",
       "      <th>cleaned sentence</th>\n",
       "      <th>cleaned highlight</th>\n",
       "    </tr>\n",
       "  </thead>\n",
       "  <tbody>\n",
       "    <tr>\n",
       "      <th>0</th>\n",
       "      <td>official u president barack obama wants lawmakers weigh whether use military force syria obama sent letter heads house senate saturday night hours announcing believes military action syrian targets right step take alleged use chemical weapons proposed legislation obama asks congress approve use military force deter disrupt prevent degrade potential future uses chemical weapons weapons mass destruction step set turn international crisis fierce domestic political battle key questions looming debate u n weapons inspectors find syria happens congress votes syrian government react televised address white house rose garden earlier saturday president said would take case congress wants believe authority carry military action without specific congressional authorization know country stronger take course actions even effective said debate issues big business usual obama said top congressional leaders agreed schedule debate body returns washington september senate foreign relations committee hold hearing matter tuesday sen robert menendez said transcript read obama full remarks syrian crisis latest developments u n inspectors leave syria obama remarks came shortly u n inspectors left syria carrying evidence determine whether chemical weapons used attack early last week damascus suburb aim game mandate clear ascertain whether chemical weapons used u n spokesman martin nesirky told reporters saturday used weapons reported toxic gas attack damascus suburb august key point global debate syrian crisis top u officials said doubt syrian government behind syrian officials denied responsibility blamed jihadists fighting rebels british u intelligence reports say attack involved chemical weapons u n officials stressed importance waiting official report inspectors inspectors share findings u n secretary general ban ki moon ban said wants wait u n team final report completed presenting u n security council organization prohibition chemical weapons nine inspectors belong said saturday could take three weeks analyze evidence collected needs time able analyze information samples nesirky said noted ban repeatedly said alternative political solution crisis syria military solution option bergen syria problem hell u obama menace must confronted obama senior advisers debated next steps take president comments saturday came amid mounting political pressure situation syria u lawmakers called immediate action others warn stepping could become quagmire global leaders expressed support british parliament vote military action earlier week blow obama hopes getting strong backing key nato allies saturday obama proposed said would limited military action syrian president bashar al assad military attack would open ended include u ground forces said syria alleged use chemical weapons earlier month assault human dignity president said failure respond force obama argued could lead escalating use chemical weapons proliferation terrorist groups would people harm world many dangers menace must confronted syria missile strike would happen next map u allied assets around syria obama decision came friday night friday night president made last minute decision consult lawmakers happen vote unclear senior administration official told obama authority act without congress even congress rejects request authorization use force obama saturday continued shore support strike al assad government spoke phone french president francois hollande rose garden speech two leaders agreed international community must deliver resolute message assad regime others would consider using chemical weapons crimes unacceptable violate international norm held accountable world white house said meanwhile uncertainty loomed congress would weigh u military officials said remained ready key assertions u intelligence report syria syria wants chemical weapons horror reactions mixed obama speech spokesman syrian national coalition said opposition group disappointed obama announcement fear lack action could embolden regime repeat attacks serious way said spokesman louay safi quite concerned members congress applauded obama decision house speaker john boehner majority leader eric cantor majority whip kevin mccarthy conference chair cathy mcmorris rodgers issued statement saturday praising president constitution responsibility declare war lies congress republican lawmakers said glad president seeking authorization military action syria response serious substantive questions raised legislators including obama fellow democrats signed letters calling either vote least full debate u action british prime minister david cameron whose attempt get lawmakers country support military action syria failed earlier week responded obama speech twitter post saturday understand support barack obama position syria cameron said influential lawmaker russia stood syria criticized united states theory main reason obama turning congress military operation get enough support either world among allies us united states alexei pushkov chairman international affairs committee russian state duma said twitter post united states scattered groups anti war protesters around country took streets saturday like many americans tired united states getting involved invading bombing countries said robin rosecrans among hundreds los angeles demonstration syria neighbors think russia china iran stand assad syria government unfazed obama speech military political analyst syrian state tv said obama embarrassed russia opposes military action syria crying help someone come rescue facing two defeats political military levels syria prime minister appeared unfazed saber rattling syrian army status maximum readiness fingers trigger confront challenges wael nader al halqi said meeting delegation syrian expatriates italy according banner syria state tv broadcast prior obama address anchor syrian state television said obama appeared preparing aggression syria based repeated lies top syrian diplomat told state television network obama facing pressure take military action israel turkey arabs right wing extremists united states think done well cameron terms taking issue parliament said bashar jaafari syria ambassador united nations obama cameron said climbed top tree know get syrian government denied used chemical weapons august attack saying jihadists fighting rebels used effort turn global sentiments british intelligence put number people killed attack saturday obama said told well people murdered u secretary state john kerry friday cited death toll children explanation offered discrepancy iran u military action syria would spark disaster opinion strikes syria bad idea</td>\n",
       "      <td>syrian official obama climbed top tree know get obama sends letter heads house senate obama seek congressional approval military action syria aim determine whether cw used says u n spokesman</td>\n",
       "    </tr>\n",
       "    <tr>\n",
       "      <th>1</th>\n",
       "      <td>los angeles medical doctor vancouver british columbia said thursday california arson suspect harry burkhart suffered severe mental illness examined part team doctors dr blaga stancheva family physician specialist obstetrics said burkhart mother dorothee patients vancouver applying refugee status canada asked diagnose treat harry support claim explaining unable show small claims court case stancheva told phone interview declined cite case burkhart role stancheva said doctors including psychiatrist diagnosed burkhart autism severe anxiety post traumatic stress disorder depression diagnosis spelled letter wrote small claims court case stancheva said stancheva citing doctor patient confidentiality would elaborate would identify psychiatrist involved diagnosis burkhart year old german national charged counts arson following string fires los angeles charges connection arson fires locations scattered hollywood west hollywood sherman oaks according authorities stancheva said refugee applications burkhart mother denied canadian government seen burkhart since early march shocked dismayed happened los angeles appears treated depression said burkhart court wednesday preliminary hearing prosecutors said rage americans triggered mother arrest last week motivated campaign terror dozens fires hollywood nearby communities burkhart kept eyes closed remained limp hearing requiring sheriff deputies hold district attorney called courtroom behavior bizarre defendant engaged protracted campaign set people believe upwards arson fires essentially amounts campaign terror community los angeles county deputy district attorney sean carney said people believe engaged conduct hatred americans carney told court burkhart would flee country allowed jail bond los angeles superior court judge upinder kalra said choice set bail go free awaiting trial burkhart must post million bond surrender german passport revealed burkhart also investigation arson fraud relation fire neukirchen near frankfurt germany worst arson sprees city history began last friday morning car fire hollywood spread apartments garage new fires happened since burkhart arrested monday los angeles district attorney steve cooley said one hurt fires property damage costs likely reach million authorities said cooley called almost attempted murder people sleeping apartments burkhart allegedly set cars fire incendiary devices placed engines criminal complaint filed wednesday also alleged fires caused use device designed accelerate fire cooley said found true allegation could mean additional custody time defendant numerous instances cars parked carports resulting fires spreading adjacent occupied apartment buildings sworn affidavit los angeles arson investigator said vast majority fires occurred late night occupants apartment buildings asleep investigator edward nordskog affidavit detailed burkhart behavior day fires began federal courtroom extradition proceedings mother audience defendant burkhart began yelling angry manner f k americans defendant also attempted communicate mother custody shortly thereafter defendant ejected courtroom deputy u marshals nordskog wrote dorothee burkhart arrested day international arrest warrant issued district court frankfurt germany said federal court spokesman gunther meilinger year old german woman wanted counts fraud three counts embezzlement said charges include allegation failed pay breast enhancement operation performed meilinger said german charges however stem phony real estate deals dorothee burkhart allegedly conducted opinion defendant criminal spree motivated rage americans setting fires defendant intended harm terrorize many residents city county los angeles possible nordskog wrote search burkhart hollywood apartment found newspaper clippings los angeles fires articles germany reporting similar car fires frankfurt germany september investigator said opinion based experience highly likely defendant history setting arson fires germany came united states nordskog wrote burkhart mother scheduled another extradition hearing friday due back court arraignment january meanwhile burkharts housed los angeles jail</td>\n",
       "      <td>new canadian doctor says part team examining harry burkhart new diagnosis autism severe anxiety post traumatic stress disorder depression burkhart also suspected german arson probe officials say prosecutors believe german national set string fires los angeles</td>\n",
       "    </tr>\n",
       "    <tr>\n",
       "      <th>2</th>\n",
       "      <td>police arrested another teen thursday sixth suspect jailed connection gang rape year old girl northern california high school campus jose carlos montano arrested charges felony rape rape concert force penetration foreign object said richmond police lt mark gagan montano arrested thursday evening san pablo california small town two miles city richmond crime took place montano held lieu million bail accused taking part police said ½ hour assault richmond high school campus police said many people involved rape dimly lit back alley school another people watched without calling victim taken hospital critical condition released wednesday four teenage suspects arraigned thursday charges connected rape cody ray smith described court older pleaded guilty charges rape foreign object rape force two juveniles ari abdallah morales marcelles james peter appeared smith contra costa county superior court enter plea court described morales younger give age peter three juveniles wore bulletproof vests hearing charged adults fourth person manuel ortega appeared separately without attorney enter plea wear protective vest another person salvador rodriguez arrested tuesday night court thursday</td>\n",
       "      <td>another arrest made gang rape outside california school investigators say people took part stood watched assault four suspects appeared court thursday three wore bulletproof vests</td>\n",
       "    </tr>\n",
       "    <tr>\n",
       "      <th>3</th>\n",
       "      <td>four groups advocate immigrant rights said thursday challenge arizona new immigration law allows police ask anyone proof legal u residency mexican american legal defense educational fund american civil liberties union aclu arizona national immigration law center held news conference thursday phoenix announce legal challenge arizona community assured vigorous sophisticated legal challenge mounted advance sb implementation seeking prevent unconstitutional discriminatory law ever taking effect said thomas saenz president mexican american legal defense educational fund known maldef law make rampant racial profiling latinos already going arizona much worse said alessandra soler meetze executive director aclu arizona law implemented citizens would effectively carry papers times avoid arrest low point modern america state law requires police demand documents people street republican arizona gov jan brewer signed law last week goes effect days close legislative session determined brewer others support law say involve racial profiling illegal acts racial profiling illegal brewer said signing bill friday illegal america certainly illegal arizona national coalition latino clergy christian leaders said sunday also planned legal action churches pastors arizona outraged significant threat anti immigrant law lives arizona latinos said rev miguel rivera group chairman policy violates rights american citizens particularly fast growing latino population arizona eliminating basic right due process certain courts agree rivera said law requires immigrants carry alien registration documents times requires police question people reason suspect united states illegally measure makes state crime live travel arizona illegally also targets hire illegal immigrant day laborers knowingly transport addition signing law brewer also issued executive order requires training local officers implement law without engaging racial profiling discrimination training include constitute reasonable suspicion person legally present united states said officials arizona expressed displeasure measure phoenix mayor phil gordon said thursday disappointed said concerned calls boycott arizona businesses tourism harm state incredulous state leaders called leaders allowed state split suffering economic hardships gordon told critics say bill unconstitutional trample residents civil rights quite simply law civil rights disaster insult american values said mary bauer legal director southern poverty law center one country required produce papers demand prove innocence kind country becoming national republican leader said thursday arizona filling void left federal government think people arizona right pass laws th amendment house minority leader john boehner said think clearly result federal government failure secure border enforce laws gordon said real solution comprehensive immigration reform would allow immigrants legally enter united states law accomplish said anything president obama called congress pass comprehensive immigration reform law year learned senate majority leader harry reid top democratic senators unveil outlines legislation late thursday boehner said briefing thursday chance congress approve measure year especially recent passage health care reform bill little know middle election year bills like health care shoved throats process twisted tortured pressured bribed serious piece legislation size difficulty environment said nothing cynical ploy try engage voters segment voters show november elections arizona measure drawn sharp criticism mexican government issued advisory citizens week secretary general organization american states member states also expressed concerns law wednesday issue concern citizens americas beginning citizens united states country rich tradition immigration respect immigrants come lead better life oas secretary general jose miguel insulza said rich tradition admire recognizing immigrants united states harmed undermined uproar caused law even spread nation pastime protesters plan demonstrate arizona diamondbacks baseball team thursday outside wrigley field chicago illinois arizona two popular singers also voice opposition grammy award winning colombian singer shakira scheduled meet gordon thursday evening singer songwriter linda ronstadt arizona native mexican german descent also attended thursday afternoon rally immigrant rights groups gov brewer signed law last week piece legislation threatens heart great state ronstadt said must come together stop sb pitting neighbor neighbor detriment us federal officials estimate million illegal immigrants united states million come mexico rest latin america million come asia arizona mexican border undocumented immigrants federal government says least five states including california million undocumented immigrants government says states illegal immigrants arizona texas florida new york georgia pew research center survey late last year found americans believe latinos discriminated major racial ethnic group american society pew survey also indicated one third nation latinos say someone know experienced discrimination percent said stopped police authorities asked immigration status year survey fifty seven percent surveyed said worried family member close friend could deported</td>\n",
       "      <td>new groups announce legal challenge phoenix american civil liberties union aclu arizona national immigration law center slam law mexican american legal defense educational fund also objects say law encourages racial profiling supporters say involve illegal acts</td>\n",
       "    </tr>\n",
       "    <tr>\n",
       "      <th>4</th>\n",
       "      <td>second time papacy pope francis announced new group bishops archbishops set become cardinals come world pope francis said sunday would hold meeting cardinals february name new cardinals coming countries every continent manifest indissoluble links church rome particular churches present world according vatican radio new cardinals always important set tone church also elect next pope senior vatican analyst john l allen said sometimes referred princes catholic church new cardinals come countries ethiopia new zealand myanmar pope much wants reach people margins clearly see set allen said talking cardinals typically overlooked places like cape verde pacific island tonga panama thailand uruguay second time since francis election americans made list francis pattern clear wants go geographical peripheries rather places already top heavy cardinals allen said christopher bellitto professor church history kean university new jersey noted francis announced new slate cardinals catholic feast epiphany commemorates visit magi jesus birthplace bethlehem feast three wise men far away pope choices cardinal say every local church deserves place big table words francis wants decentralized church wants hear reform ideas small communities sit far catholicism power centers bellitto said mean francis first pontiff appoint cardinals developing world though beginning s increasing number latin american churchmen named cardinals s st john xxiii francis canonized last year appointed first cardinals japan philippines africa addition new cardinals francis named sunday five retired archbishops bishops also honored cardinals last year pope francis appointed new cardinals including bishops haiti burkina faso daniel burke christabelle fombu contributed report</td>\n",
       "      <td>new cardinals installed february come countries myanmar tonga americans made list time previous time francis papacy</td>\n",
       "    </tr>\n",
       "  </tbody>\n",
       "</table>\n",
       "</div>"
      ],
      "text/plain": [
       "                                                                                                                                                                                                                                                                                                                                                                                                                                                                                                                                                                                                                                                                                                                                                                                                                                                                                                                                                                                                                                                                                                                                                                                                                                                                                                                                                                                                                                                                                                                                                                                                                                                                                                                                                                                                                                                                                                                                                                                                                                                                                                                                                                                                                                                                                                                                                                                                                                                                                                                                                                                                                                                                                                                                                                                                                                                                                                                                                                                                                                                                                                                                                                                                                                                                                                                                                                                                                                                                                                                                                                                                                                                                                                                                                                                                                                                                                                                                                                                                                                                                                                                                                                                                                                                                                                                                                                                                                                                                                                                                                                                                                                                                                                                                                                                                                                                                                                                                                                                                                                                                                                                                                                                                                                                                                                                                                                                                                                                                                                                                                                                                                                                                                                                                                                                                                                                                                                                                                                                                                                                                                                                                                                                                                                                                                                                                                                                                                                                                                                                                                                                                                                                                                                                                                                                                                                                                                                               cleaned sentence  \\\n",
       "0  official u president barack obama wants lawmakers weigh whether use military force syria obama sent letter heads house senate saturday night hours announcing believes military action syrian targets right step take alleged use chemical weapons proposed legislation obama asks congress approve use military force deter disrupt prevent degrade potential future uses chemical weapons weapons mass destruction step set turn international crisis fierce domestic political battle key questions looming debate u n weapons inspectors find syria happens congress votes syrian government react televised address white house rose garden earlier saturday president said would take case congress wants believe authority carry military action without specific congressional authorization know country stronger take course actions even effective said debate issues big business usual obama said top congressional leaders agreed schedule debate body returns washington september senate foreign relations committee hold hearing matter tuesday sen robert menendez said transcript read obama full remarks syrian crisis latest developments u n inspectors leave syria obama remarks came shortly u n inspectors left syria carrying evidence determine whether chemical weapons used attack early last week damascus suburb aim game mandate clear ascertain whether chemical weapons used u n spokesman martin nesirky told reporters saturday used weapons reported toxic gas attack damascus suburb august key point global debate syrian crisis top u officials said doubt syrian government behind syrian officials denied responsibility blamed jihadists fighting rebels british u intelligence reports say attack involved chemical weapons u n officials stressed importance waiting official report inspectors inspectors share findings u n secretary general ban ki moon ban said wants wait u n team final report completed presenting u n security council organization prohibition chemical weapons nine inspectors belong said saturday could take three weeks analyze evidence collected needs time able analyze information samples nesirky said noted ban repeatedly said alternative political solution crisis syria military solution option bergen syria problem hell u obama menace must confronted obama senior advisers debated next steps take president comments saturday came amid mounting political pressure situation syria u lawmakers called immediate action others warn stepping could become quagmire global leaders expressed support british parliament vote military action earlier week blow obama hopes getting strong backing key nato allies saturday obama proposed said would limited military action syrian president bashar al assad military attack would open ended include u ground forces said syria alleged use chemical weapons earlier month assault human dignity president said failure respond force obama argued could lead escalating use chemical weapons proliferation terrorist groups would people harm world many dangers menace must confronted syria missile strike would happen next map u allied assets around syria obama decision came friday night friday night president made last minute decision consult lawmakers happen vote unclear senior administration official told obama authority act without congress even congress rejects request authorization use force obama saturday continued shore support strike al assad government spoke phone french president francois hollande rose garden speech two leaders agreed international community must deliver resolute message assad regime others would consider using chemical weapons crimes unacceptable violate international norm held accountable world white house said meanwhile uncertainty loomed congress would weigh u military officials said remained ready key assertions u intelligence report syria syria wants chemical weapons horror reactions mixed obama speech spokesman syrian national coalition said opposition group disappointed obama announcement fear lack action could embolden regime repeat attacks serious way said spokesman louay safi quite concerned members congress applauded obama decision house speaker john boehner majority leader eric cantor majority whip kevin mccarthy conference chair cathy mcmorris rodgers issued statement saturday praising president constitution responsibility declare war lies congress republican lawmakers said glad president seeking authorization military action syria response serious substantive questions raised legislators including obama fellow democrats signed letters calling either vote least full debate u action british prime minister david cameron whose attempt get lawmakers country support military action syria failed earlier week responded obama speech twitter post saturday understand support barack obama position syria cameron said influential lawmaker russia stood syria criticized united states theory main reason obama turning congress military operation get enough support either world among allies us united states alexei pushkov chairman international affairs committee russian state duma said twitter post united states scattered groups anti war protesters around country took streets saturday like many americans tired united states getting involved invading bombing countries said robin rosecrans among hundreds los angeles demonstration syria neighbors think russia china iran stand assad syria government unfazed obama speech military political analyst syrian state tv said obama embarrassed russia opposes military action syria crying help someone come rescue facing two defeats political military levels syria prime minister appeared unfazed saber rattling syrian army status maximum readiness fingers trigger confront challenges wael nader al halqi said meeting delegation syrian expatriates italy according banner syria state tv broadcast prior obama address anchor syrian state television said obama appeared preparing aggression syria based repeated lies top syrian diplomat told state television network obama facing pressure take military action israel turkey arabs right wing extremists united states think done well cameron terms taking issue parliament said bashar jaafari syria ambassador united nations obama cameron said climbed top tree know get syrian government denied used chemical weapons august attack saying jihadists fighting rebels used effort turn global sentiments british intelligence put number people killed attack saturday obama said told well people murdered u secretary state john kerry friday cited death toll children explanation offered discrepancy iran u military action syria would spark disaster opinion strikes syria bad idea   \n",
       "1  los angeles medical doctor vancouver british columbia said thursday california arson suspect harry burkhart suffered severe mental illness examined part team doctors dr blaga stancheva family physician specialist obstetrics said burkhart mother dorothee patients vancouver applying refugee status canada asked diagnose treat harry support claim explaining unable show small claims court case stancheva told phone interview declined cite case burkhart role stancheva said doctors including psychiatrist diagnosed burkhart autism severe anxiety post traumatic stress disorder depression diagnosis spelled letter wrote small claims court case stancheva said stancheva citing doctor patient confidentiality would elaborate would identify psychiatrist involved diagnosis burkhart year old german national charged counts arson following string fires los angeles charges connection arson fires locations scattered hollywood west hollywood sherman oaks according authorities stancheva said refugee applications burkhart mother denied canadian government seen burkhart since early march shocked dismayed happened los angeles appears treated depression said burkhart court wednesday preliminary hearing prosecutors said rage americans triggered mother arrest last week motivated campaign terror dozens fires hollywood nearby communities burkhart kept eyes closed remained limp hearing requiring sheriff deputies hold district attorney called courtroom behavior bizarre defendant engaged protracted campaign set people believe upwards arson fires essentially amounts campaign terror community los angeles county deputy district attorney sean carney said people believe engaged conduct hatred americans carney told court burkhart would flee country allowed jail bond los angeles superior court judge upinder kalra said choice set bail go free awaiting trial burkhart must post million bond surrender german passport revealed burkhart also investigation arson fraud relation fire neukirchen near frankfurt germany worst arson sprees city history began last friday morning car fire hollywood spread apartments garage new fires happened since burkhart arrested monday los angeles district attorney steve cooley said one hurt fires property damage costs likely reach million authorities said cooley called almost attempted murder people sleeping apartments burkhart allegedly set cars fire incendiary devices placed engines criminal complaint filed wednesday also alleged fires caused use device designed accelerate fire cooley said found true allegation could mean additional custody time defendant numerous instances cars parked carports resulting fires spreading adjacent occupied apartment buildings sworn affidavit los angeles arson investigator said vast majority fires occurred late night occupants apartment buildings asleep investigator edward nordskog affidavit detailed burkhart behavior day fires began federal courtroom extradition proceedings mother audience defendant burkhart began yelling angry manner f k americans defendant also attempted communicate mother custody shortly thereafter defendant ejected courtroom deputy u marshals nordskog wrote dorothee burkhart arrested day international arrest warrant issued district court frankfurt germany said federal court spokesman gunther meilinger year old german woman wanted counts fraud three counts embezzlement said charges include allegation failed pay breast enhancement operation performed meilinger said german charges however stem phony real estate deals dorothee burkhart allegedly conducted opinion defendant criminal spree motivated rage americans setting fires defendant intended harm terrorize many residents city county los angeles possible nordskog wrote search burkhart hollywood apartment found newspaper clippings los angeles fires articles germany reporting similar car fires frankfurt germany september investigator said opinion based experience highly likely defendant history setting arson fires germany came united states nordskog wrote burkhart mother scheduled another extradition hearing friday due back court arraignment january meanwhile burkharts housed los angeles jail                                                                                                                                                                                                                                                                                                                                                                                                                                                                                                                                                                                                                                                                                                                                                                                                                                                                                                                                                                                                                                                                                                                                                                                                                                                                                                                                                                                                                                                                                                                                                                                                                                                                                                                                                                                                                                                                                                                                                                                                                                                                                                                                                                                                                                                                                                                                                                                                                                                                                                                                                                                                          \n",
       "2  police arrested another teen thursday sixth suspect jailed connection gang rape year old girl northern california high school campus jose carlos montano arrested charges felony rape rape concert force penetration foreign object said richmond police lt mark gagan montano arrested thursday evening san pablo california small town two miles city richmond crime took place montano held lieu million bail accused taking part police said ½ hour assault richmond high school campus police said many people involved rape dimly lit back alley school another people watched without calling victim taken hospital critical condition released wednesday four teenage suspects arraigned thursday charges connected rape cody ray smith described court older pleaded guilty charges rape foreign object rape force two juveniles ari abdallah morales marcelles james peter appeared smith contra costa county superior court enter plea court described morales younger give age peter three juveniles wore bulletproof vests hearing charged adults fourth person manuel ortega appeared separately without attorney enter plea wear protective vest another person salvador rodriguez arrested tuesday night court thursday                                                                                                                                                                                                                                                                                                                                                                                                                                                                                                                                                                                                                                                                                                                                                                                                                                                                                                                                                                                                                                                                                                                                                                                                                                                                                                                                                                                                                                                                                                                                                                                                                                                                                                                                                                                                                                                                                                                                                                                                                                                                                                                                                                                                                                                                                                                                                                                                                                                                                                                                                                                                                                                                                                                                                                                                                                                                                                                                                                                                                                                                                                                                                                                                                                                                                                                                                                                                                                                                                                                                                                                                                                                                                                                                                                                                                                                                                                                                                                                                                                                                                                                                                                                                                                                                                                                                                                                                                                                                                                                                                                                                                                                                                                                                                                                                                                                                                                                                                                                                                                                                                                                                                                                                                                                                                                                                                                                                                                                                                                                                                                                                                                                                                        \n",
       "3  four groups advocate immigrant rights said thursday challenge arizona new immigration law allows police ask anyone proof legal u residency mexican american legal defense educational fund american civil liberties union aclu arizona national immigration law center held news conference thursday phoenix announce legal challenge arizona community assured vigorous sophisticated legal challenge mounted advance sb implementation seeking prevent unconstitutional discriminatory law ever taking effect said thomas saenz president mexican american legal defense educational fund known maldef law make rampant racial profiling latinos already going arizona much worse said alessandra soler meetze executive director aclu arizona law implemented citizens would effectively carry papers times avoid arrest low point modern america state law requires police demand documents people street republican arizona gov jan brewer signed law last week goes effect days close legislative session determined brewer others support law say involve racial profiling illegal acts racial profiling illegal brewer said signing bill friday illegal america certainly illegal arizona national coalition latino clergy christian leaders said sunday also planned legal action churches pastors arizona outraged significant threat anti immigrant law lives arizona latinos said rev miguel rivera group chairman policy violates rights american citizens particularly fast growing latino population arizona eliminating basic right due process certain courts agree rivera said law requires immigrants carry alien registration documents times requires police question people reason suspect united states illegally measure makes state crime live travel arizona illegally also targets hire illegal immigrant day laborers knowingly transport addition signing law brewer also issued executive order requires training local officers implement law without engaging racial profiling discrimination training include constitute reasonable suspicion person legally present united states said officials arizona expressed displeasure measure phoenix mayor phil gordon said thursday disappointed said concerned calls boycott arizona businesses tourism harm state incredulous state leaders called leaders allowed state split suffering economic hardships gordon told critics say bill unconstitutional trample residents civil rights quite simply law civil rights disaster insult american values said mary bauer legal director southern poverty law center one country required produce papers demand prove innocence kind country becoming national republican leader said thursday arizona filling void left federal government think people arizona right pass laws th amendment house minority leader john boehner said think clearly result federal government failure secure border enforce laws gordon said real solution comprehensive immigration reform would allow immigrants legally enter united states law accomplish said anything president obama called congress pass comprehensive immigration reform law year learned senate majority leader harry reid top democratic senators unveil outlines legislation late thursday boehner said briefing thursday chance congress approve measure year especially recent passage health care reform bill little know middle election year bills like health care shoved throats process twisted tortured pressured bribed serious piece legislation size difficulty environment said nothing cynical ploy try engage voters segment voters show november elections arizona measure drawn sharp criticism mexican government issued advisory citizens week secretary general organization american states member states also expressed concerns law wednesday issue concern citizens americas beginning citizens united states country rich tradition immigration respect immigrants come lead better life oas secretary general jose miguel insulza said rich tradition admire recognizing immigrants united states harmed undermined uproar caused law even spread nation pastime protesters plan demonstrate arizona diamondbacks baseball team thursday outside wrigley field chicago illinois arizona two popular singers also voice opposition grammy award winning colombian singer shakira scheduled meet gordon thursday evening singer songwriter linda ronstadt arizona native mexican german descent also attended thursday afternoon rally immigrant rights groups gov brewer signed law last week piece legislation threatens heart great state ronstadt said must come together stop sb pitting neighbor neighbor detriment us federal officials estimate million illegal immigrants united states million come mexico rest latin america million come asia arizona mexican border undocumented immigrants federal government says least five states including california million undocumented immigrants government says states illegal immigrants arizona texas florida new york georgia pew research center survey late last year found americans believe latinos discriminated major racial ethnic group american society pew survey also indicated one third nation latinos say someone know experienced discrimination percent said stopped police authorities asked immigration status year survey fifty seven percent surveyed said worried family member close friend could deported                                                                                                                                                                                                                                                                                                                                                                                                                                                                                                                                                                                                                                                                                                                                                                                                                                                                                                                                                                                                                                                                                                                                                                                                                                                                                                                                                                                                                    \n",
       "4  second time papacy pope francis announced new group bishops archbishops set become cardinals come world pope francis said sunday would hold meeting cardinals february name new cardinals coming countries every continent manifest indissoluble links church rome particular churches present world according vatican radio new cardinals always important set tone church also elect next pope senior vatican analyst john l allen said sometimes referred princes catholic church new cardinals come countries ethiopia new zealand myanmar pope much wants reach people margins clearly see set allen said talking cardinals typically overlooked places like cape verde pacific island tonga panama thailand uruguay second time since francis election americans made list francis pattern clear wants go geographical peripheries rather places already top heavy cardinals allen said christopher bellitto professor church history kean university new jersey noted francis announced new slate cardinals catholic feast epiphany commemorates visit magi jesus birthplace bethlehem feast three wise men far away pope choices cardinal say every local church deserves place big table words francis wants decentralized church wants hear reform ideas small communities sit far catholicism power centers bellitto said mean francis first pontiff appoint cardinals developing world though beginning s increasing number latin american churchmen named cardinals s st john xxiii francis canonized last year appointed first cardinals japan philippines africa addition new cardinals francis named sunday five retired archbishops bishops also honored cardinals last year pope francis appointed new cardinals including bishops haiti burkina faso daniel burke christabelle fombu contributed report                                                                                                                                                                                                                                                                                                                                                                                                                                                                                                                                                                                                                                                                                                                                                                                                                                                                                                                                                                                                                                                                                                                                                                                                                                                                                                                                                                                                                                                                                                                                                                                                                                                                                                                                                                                                                                                                                                                                                                                                                                                                                                                                                                                                                                                                                                                                                                                                                                                                                                                                                                                                                                                                                                                                                                                                                                                                                                                                                                                                                                                                                                                                                                                                                                                                                                                                                                                                                                                                                                                                                                                                                                                                                                                                                                                                                                                                                                                                                                                                                                                                                                                                                                                                                                                                                                                                                                                                                                                                                                                                                                                                                                                                                                                                                                                                                                                                                                                                                                                                                                                                                                     \n",
       "\n",
       "                                                                                                                                                                                                                                                       cleaned highlight  \n",
       "0  syrian official obama climbed top tree know get obama sends letter heads house senate obama seek congressional approval military action syria aim determine whether cw used says u n spokesman                                                                         \n",
       "1  new canadian doctor says part team examining harry burkhart new diagnosis autism severe anxiety post traumatic stress disorder depression burkhart also suspected german arson probe officials say prosecutors believe german national set string fires los angeles    \n",
       "2  another arrest made gang rape outside california school investigators say people took part stood watched assault four suspects appeared court thursday three wore bulletproof vests                                                                                    \n",
       "3  new groups announce legal challenge phoenix american civil liberties union aclu arizona national immigration law center slam law mexican american legal defense educational fund also objects say law encourages racial profiling supporters say involve illegal acts  \n",
       "4  new cardinals installed february come countries myanmar tonga americans made list time previous time francis papacy                                                                                                                                                    "
      ]
     },
     "execution_count": 16,
     "metadata": {},
     "output_type": "execute_result"
    }
   ],
   "source": [
    "data_set_clean.head()"
   ]
  },
  {
   "cell_type": "code",
   "execution_count": 17,
   "metadata": {},
   "outputs": [],
   "source": [
    "for i in range(len(data_set_clean)):\n",
    "  if len(data_set_clean.iloc[i, 0]) >= 200:\n",
    "    data_set_clean.iloc[i, 0] = data_set_clean.iloc[i, 0][:200]\n",
    "  \n",
    "  if len(data_set_clean.iloc[i, 1]) >= 200:\n",
    "    data_set_clean.iloc[i, 1] = data_set_clean.iloc[i, 1][:200]\n"
   ]
  },
  {
   "cell_type": "code",
   "execution_count": 18,
   "metadata": {},
   "outputs": [
    {
     "data": {
      "text/html": [
       "<div>\n",
       "<style scoped>\n",
       "    .dataframe tbody tr th:only-of-type {\n",
       "        vertical-align: middle;\n",
       "    }\n",
       "\n",
       "    .dataframe tbody tr th {\n",
       "        vertical-align: top;\n",
       "    }\n",
       "\n",
       "    .dataframe thead th {\n",
       "        text-align: right;\n",
       "    }\n",
       "</style>\n",
       "<table border=\"1\" class=\"dataframe\">\n",
       "  <thead>\n",
       "    <tr style=\"text-align: right;\">\n",
       "      <th></th>\n",
       "      <th>cleaned sentence</th>\n",
       "      <th>cleaned highlight</th>\n",
       "    </tr>\n",
       "  </thead>\n",
       "  <tbody>\n",
       "    <tr>\n",
       "      <th>0</th>\n",
       "      <td>official u president barack obama wants lawmakers weigh whether use military force syria obama sent letter heads house senate saturday night hours announcing believes military action syrian targets ri</td>\n",
       "      <td>syrian official obama climbed top tree know get obama sends letter heads house senate obama seek congressional approval military action syria aim determine whether cw used says u n spokesman</td>\n",
       "    </tr>\n",
       "    <tr>\n",
       "      <th>1</th>\n",
       "      <td>los angeles medical doctor vancouver british columbia said thursday california arson suspect harry burkhart suffered severe mental illness examined part team doctors dr blaga stancheva family physicia</td>\n",
       "      <td>new canadian doctor says part team examining harry burkhart new diagnosis autism severe anxiety post traumatic stress disorder depression burkhart also suspected german arson probe officials say prose</td>\n",
       "    </tr>\n",
       "    <tr>\n",
       "      <th>2</th>\n",
       "      <td>police arrested another teen thursday sixth suspect jailed connection gang rape year old girl northern california high school campus jose carlos montano arrested charges felony rape rape concert force</td>\n",
       "      <td>another arrest made gang rape outside california school investigators say people took part stood watched assault four suspects appeared court thursday three wore bulletproof vests</td>\n",
       "    </tr>\n",
       "    <tr>\n",
       "      <th>3</th>\n",
       "      <td>four groups advocate immigrant rights said thursday challenge arizona new immigration law allows police ask anyone proof legal u residency mexican american legal defense educational fund american civi</td>\n",
       "      <td>new groups announce legal challenge phoenix american civil liberties union aclu arizona national immigration law center slam law mexican american legal defense educational fund also objects say law en</td>\n",
       "    </tr>\n",
       "    <tr>\n",
       "      <th>4</th>\n",
       "      <td>second time papacy pope francis announced new group bishops archbishops set become cardinals come world pope francis said sunday would hold meeting cardinals february name new cardinals coming countri</td>\n",
       "      <td>new cardinals installed february come countries myanmar tonga americans made list time previous time francis papacy</td>\n",
       "    </tr>\n",
       "  </tbody>\n",
       "</table>\n",
       "</div>"
      ],
      "text/plain": [
       "                                                                                                                                                                                           cleaned sentence                                                                                                                                                                                         cleaned highlight\n",
       "0  official u president barack obama wants lawmakers weigh whether use military force syria obama sent letter heads house senate saturday night hours announcing believes military action syrian targets ri  syrian official obama climbed top tree know get obama sends letter heads house senate obama seek congressional approval military action syria aim determine whether cw used says u n spokesman          \n",
       "1  los angeles medical doctor vancouver british columbia said thursday california arson suspect harry burkhart suffered severe mental illness examined part team doctors dr blaga stancheva family physicia  new canadian doctor says part team examining harry burkhart new diagnosis autism severe anxiety post traumatic stress disorder depression burkhart also suspected german arson probe officials say prose\n",
       "2  police arrested another teen thursday sixth suspect jailed connection gang rape year old girl northern california high school campus jose carlos montano arrested charges felony rape rape concert force  another arrest made gang rape outside california school investigators say people took part stood watched assault four suspects appeared court thursday three wore bulletproof vests                     \n",
       "3  four groups advocate immigrant rights said thursday challenge arizona new immigration law allows police ask anyone proof legal u residency mexican american legal defense educational fund american civi  new groups announce legal challenge phoenix american civil liberties union aclu arizona national immigration law center slam law mexican american legal defense educational fund also objects say law en\n",
       "4  second time papacy pope francis announced new group bishops archbishops set become cardinals come world pope francis said sunday would hold meeting cardinals february name new cardinals coming countri  new cardinals installed february come countries myanmar tonga americans made list time previous time francis papacy                                                                                     "
      ]
     },
     "execution_count": 18,
     "metadata": {},
     "output_type": "execute_result"
    }
   ],
   "source": [
    "data_set_clean.head()"
   ]
  },
  {
   "cell_type": "code",
   "execution_count": 19,
   "metadata": {},
   "outputs": [],
   "source": [
    "data_set_clean.reset_index(inplace = True)"
   ]
  },
  {
   "cell_type": "code",
   "execution_count": 20,
   "metadata": {},
   "outputs": [
    {
     "data": {
      "text/plain": [
       "Index(['index', 'cleaned sentence', 'cleaned highlight'], dtype='object')"
      ]
     },
     "execution_count": 20,
     "metadata": {},
     "output_type": "execute_result"
    }
   ],
   "source": [
    "data_set_clean.columns"
   ]
  },
  {
   "cell_type": "code",
   "execution_count": 21,
   "metadata": {},
   "outputs": [],
   "source": [
    "data_set_clean.drop(labels = ['index'], inplace = True, axis = 1)"
   ]
  },
  {
   "cell_type": "code",
   "execution_count": 22,
   "metadata": {},
   "outputs": [],
   "source": [
    "#Hyperparameters\n",
    "batch_size = 64\n",
    "latent_dim = 256\n",
    "num_samples = 5000"
   ]
  },
  {
   "cell_type": "code",
   "execution_count": 23,
   "metadata": {},
   "outputs": [
    {
     "data": {
      "text/plain": [
       "Index(['cleaned sentence', 'cleaned highlight'], dtype='object')"
      ]
     },
     "execution_count": 23,
     "metadata": {},
     "output_type": "execute_result"
    }
   ],
   "source": [
    "data_set_clean.columns"
   ]
  },
  {
   "cell_type": "code",
   "execution_count": 24,
   "metadata": {},
   "outputs": [
    {
     "name": "stdout",
     "output_type": "stream",
     "text": [
      "Number of samples: 5000\n",
      "Number of unique input tokens: 37\n",
      "Number of unique output tokens: 41\n",
      "Max sequence length for inputs: 200\n",
      "Max sequence length for outputs: 202\n"
     ]
    }
   ],
   "source": [
    "#Vectorize the data.\n",
    "input_texts = []\n",
    "target_texts = []\n",
    "input_chars = set()\n",
    "target_chars = set()\n",
    "\n",
    "\n",
    "    \n",
    "for i in range(min(num_samples, len(data_set_clean) - 1)):\n",
    "    input_text = data_set_clean.loc[i,'cleaned sentence']\n",
    "    target_text = data_set_clean.loc[i,'cleaned highlight']\n",
    "    target_text = '\\t' + target_text + '\\n'\n",
    "    input_texts.append(input_text)\n",
    "    target_texts.append(target_text)\n",
    "    \n",
    "    for char in input_text:\n",
    "        if char not in input_chars:\n",
    "            input_chars.add(char)\n",
    "    for char in target_text:\n",
    "        if char not in target_chars:\n",
    "            target_chars.add(char)\n",
    "\n",
    "input_chars = sorted(list(input_chars))\n",
    "target_chars = sorted(list(target_chars))\n",
    "num_encoder_tokens = len(input_chars)\n",
    "num_decoder_tokens = len(target_chars)\n",
    "max_encoder_seq_length = max([len(txt) for txt in input_texts])\n",
    "max_decoder_seq_length = max([len(txt) for txt in target_texts])\n",
    "\n",
    "#Print size\n",
    "print('Number of samples:', len(input_texts))\n",
    "print('Number of unique input tokens:', num_encoder_tokens)\n",
    "print('Number of unique output tokens:', num_decoder_tokens)\n",
    "print('Max sequence length for inputs:', max_encoder_seq_length)\n",
    "print('Max sequence length for outputs:', max_decoder_seq_length)"
   ]
  },
  {
   "cell_type": "code",
   "execution_count": 25,
   "metadata": {},
   "outputs": [],
   "source": [
    "#Define data for encoder and decoder\n",
    "input_token_id = dict([(char, i) for i, char in enumerate(input_chars)])\n",
    "target_token_id = dict([(char, i) for i, char in enumerate(target_chars)])\n",
    "\n",
    "encoder_in_data = np.zeros((len(input_texts), max_encoder_seq_length, num_encoder_tokens), dtype='float32')\n",
    "\n",
    "decoder_in_data = np.zeros((len(input_texts), max_decoder_seq_length, num_decoder_tokens), dtype='float32')\n",
    "\n",
    "decoder_target_data = np.zeros((len(input_texts), max_decoder_seq_length, num_decoder_tokens), dtype='float32')\n",
    "\n",
    "for i, (input_text, target_text) in enumerate(zip(input_texts, target_texts)):\n",
    "    for t, char in enumerate(input_text):\n",
    "        encoder_in_data[i, t, input_token_id[char]] = 1.\n",
    "    for t, char in enumerate(target_text):\n",
    "        decoder_in_data[i, t, target_token_id[char]] = 1.\n",
    "        if t > 0:\n",
    "            decoder_target_data[i, t - 1, target_token_id[char]] = 1."
   ]
  },
  {
   "cell_type": "code",
   "execution_count": 32,
   "metadata": {},
   "outputs": [],
   "source": [
    "#Define and process the input sequence\n",
    "encoder_inputs = Input(shape=(None, num_encoder_tokens))\n",
    "encoder = LSTM(latent_dim, return_state=True)\n",
    "encoder_outputs, state_h, state_c = encoder(encoder_inputs)\n",
    "#We discard `encoder_outputs` and only keep the states.\n",
    "encoder_states = [state_h, state_c]\n",
    "\n",
    "#Using `encoder_states` set up the decoder as initial state.\n",
    "decoder_inputs = Input(shape=(None, num_decoder_tokens))\n",
    "decoder_lstm = LSTM(latent_dim, return_sequences=True, return_state=True)\n",
    "decoder_outputs, _, _ = decoder_lstm(decoder_inputs, initial_state=encoder_states)\n",
    "decoder_dense = Dense(num_decoder_tokens, activation='softmax')\n",
    "decoder_outputs = decoder_dense(decoder_outputs)"
   ]
  },
  {
   "cell_type": "code",
   "execution_count": 33,
   "metadata": {},
   "outputs": [],
   "source": [
    "#Final model\n",
    "model = Model([encoder_inputs, decoder_inputs], decoder_outputs)"
   ]
  },
  {
   "cell_type": "code",
   "execution_count": 34,
   "metadata": {},
   "outputs": [
    {
     "name": "stdout",
     "output_type": "stream",
     "text": [
      "Model: \"model_1\"\n",
      "__________________________________________________________________________________________________\n",
      "Layer (type)                    Output Shape         Param #     Connected to                     \n",
      "==================================================================================================\n",
      "input_1 (InputLayer)            (None, None, 37)     0                                            \n",
      "__________________________________________________________________________________________________\n",
      "input_2 (InputLayer)            (None, None, 41)     0                                            \n",
      "__________________________________________________________________________________________________\n",
      "lstm_1 (LSTM)                   [(None, 256), (None, 301056      input_1[0][0]                    \n",
      "__________________________________________________________________________________________________\n",
      "lstm_2 (LSTM)                   [(None, None, 256),  305152      input_2[0][0]                    \n",
      "                                                                 lstm_1[0][1]                     \n",
      "                                                                 lstm_1[0][2]                     \n",
      "__________________________________________________________________________________________________\n",
      "dense_1 (Dense)                 (None, None, 41)     10537       lstm_2[0][0]                     \n",
      "==================================================================================================\n",
      "Total params: 616,745\n",
      "Trainable params: 616,745\n",
      "Non-trainable params: 0\n",
      "__________________________________________________________________________________________________\n"
     ]
    }
   ],
   "source": [
    "#Model Summary\n",
    "model.summary()"
   ]
  },
  {
   "cell_type": "code",
   "execution_count": 35,
   "metadata": {},
   "outputs": [
    {
     "name": "stdout",
     "output_type": "stream",
     "text": [
      "encoder_in_data shape: (5000, 200, 37)\n",
      "decoder_in_data shape: (5000, 202, 41)\n",
      "decoder_target_data shape: (5000, 202, 41)\n"
     ]
    }
   ],
   "source": [
    "#Model data Shape\n",
    "print(\"encoder_in_data shape:\",encoder_in_data.shape)\n",
    "print(\"decoder_in_data shape:\",decoder_in_data.shape)\n",
    "print(\"decoder_target_data shape:\",decoder_target_data.shape)"
   ]
  },
  {
   "cell_type": "code",
   "execution_count": 36,
   "metadata": {},
   "outputs": [
    {
     "name": "stdout",
     "output_type": "stream",
     "text": [
      "Train on 4000 samples, validate on 1000 samples\n",
      "Epoch 1/10\n",
      "4000/4000 [==============================] - 792s 198ms/step - loss: 2.6008 - val_loss: 2.2529\n",
      "Epoch 2/10\n",
      "4000/4000 [==============================] - 773s 193ms/step - loss: 2.1619 - val_loss: 2.1102\n",
      "Epoch 3/10\n",
      "4000/4000 [==============================] - 770s 193ms/step - loss: 2.0804 - val_loss: 2.0623\n",
      "Epoch 4/10\n",
      "3520/4000 [=========================>....] - ETA: 1:26 - loss: 2.0395"
     ]
    },
    {
     "ename": "KeyboardInterrupt",
     "evalue": "",
     "output_type": "error",
     "traceback": [
      "\u001b[1;31m---------------------------------------------------------------------------\u001b[0m",
      "\u001b[1;31mKeyboardInterrupt\u001b[0m                         Traceback (most recent call last)",
      "\u001b[1;32m<ipython-input-36-0c746cb1b356>\u001b[0m in \u001b[0;36m<module>\u001b[1;34m\u001b[0m\n\u001b[0;32m      2\u001b[0m \u001b[0mmodel\u001b[0m\u001b[1;33m.\u001b[0m\u001b[0mcompile\u001b[0m\u001b[1;33m(\u001b[0m\u001b[0moptimizer\u001b[0m\u001b[1;33m=\u001b[0m\u001b[0mAdam\u001b[0m\u001b[1;33m(\u001b[0m\u001b[0mlr\u001b[0m\u001b[1;33m=\u001b[0m\u001b[1;36m0.01\u001b[0m\u001b[1;33m,\u001b[0m \u001b[0mbeta_1\u001b[0m\u001b[1;33m=\u001b[0m\u001b[1;36m0.9\u001b[0m\u001b[1;33m,\u001b[0m \u001b[0mbeta_2\u001b[0m\u001b[1;33m=\u001b[0m\u001b[1;36m0.999\u001b[0m\u001b[1;33m,\u001b[0m \u001b[0mdecay\u001b[0m\u001b[1;33m=\u001b[0m\u001b[1;36m0.001\u001b[0m\u001b[1;33m)\u001b[0m\u001b[1;33m,\u001b[0m \u001b[0mloss\u001b[0m\u001b[1;33m=\u001b[0m\u001b[1;34m'categorical_crossentropy'\u001b[0m\u001b[1;33m)\u001b[0m\u001b[1;33m\u001b[0m\u001b[1;33m\u001b[0m\u001b[0m\n\u001b[0;32m      3\u001b[0m \u001b[1;33m\u001b[0m\u001b[0m\n\u001b[1;32m----> 4\u001b[1;33m \u001b[0mmodel\u001b[0m\u001b[1;33m.\u001b[0m\u001b[0mfit\u001b[0m\u001b[1;33m(\u001b[0m\u001b[1;33m[\u001b[0m\u001b[0mencoder_in_data\u001b[0m\u001b[1;33m,\u001b[0m \u001b[0mdecoder_in_data\u001b[0m\u001b[1;33m]\u001b[0m\u001b[1;33m,\u001b[0m \u001b[0mdecoder_target_data\u001b[0m\u001b[1;33m,\u001b[0m \u001b[0mbatch_size\u001b[0m \u001b[1;33m=\u001b[0m \u001b[0mbatch_size\u001b[0m\u001b[1;33m,\u001b[0m \u001b[0mepochs\u001b[0m\u001b[1;33m=\u001b[0m\u001b[1;36m10\u001b[0m\u001b[1;33m,\u001b[0m \u001b[0mvalidation_split\u001b[0m\u001b[1;33m=\u001b[0m\u001b[1;36m0.2\u001b[0m\u001b[1;33m)\u001b[0m\u001b[1;33m\u001b[0m\u001b[1;33m\u001b[0m\u001b[0m\n\u001b[0m",
      "\u001b[1;32mc:\\users\\user\\anaconda3\\envs\\tf\\lib\\site-packages\\keras\\engine\\training.py\u001b[0m in \u001b[0;36mfit\u001b[1;34m(self, x, y, batch_size, epochs, verbose, callbacks, validation_split, validation_data, shuffle, class_weight, sample_weight, initial_epoch, steps_per_epoch, validation_steps, validation_freq, max_queue_size, workers, use_multiprocessing, **kwargs)\u001b[0m\n\u001b[0;32m   1237\u001b[0m                                         \u001b[0msteps_per_epoch\u001b[0m\u001b[1;33m=\u001b[0m\u001b[0msteps_per_epoch\u001b[0m\u001b[1;33m,\u001b[0m\u001b[1;33m\u001b[0m\u001b[1;33m\u001b[0m\u001b[0m\n\u001b[0;32m   1238\u001b[0m                                         \u001b[0mvalidation_steps\u001b[0m\u001b[1;33m=\u001b[0m\u001b[0mvalidation_steps\u001b[0m\u001b[1;33m,\u001b[0m\u001b[1;33m\u001b[0m\u001b[1;33m\u001b[0m\u001b[0m\n\u001b[1;32m-> 1239\u001b[1;33m                                         validation_freq=validation_freq)\n\u001b[0m\u001b[0;32m   1240\u001b[0m \u001b[1;33m\u001b[0m\u001b[0m\n\u001b[0;32m   1241\u001b[0m     def evaluate(self,\n",
      "\u001b[1;32mc:\\users\\user\\anaconda3\\envs\\tf\\lib\\site-packages\\keras\\engine\\training_arrays.py\u001b[0m in \u001b[0;36mfit_loop\u001b[1;34m(model, fit_function, fit_inputs, out_labels, batch_size, epochs, verbose, callbacks, val_function, val_inputs, shuffle, initial_epoch, steps_per_epoch, validation_steps, validation_freq)\u001b[0m\n\u001b[0;32m    194\u001b[0m                     \u001b[0mins_batch\u001b[0m\u001b[1;33m[\u001b[0m\u001b[0mi\u001b[0m\u001b[1;33m]\u001b[0m \u001b[1;33m=\u001b[0m \u001b[0mins_batch\u001b[0m\u001b[1;33m[\u001b[0m\u001b[0mi\u001b[0m\u001b[1;33m]\u001b[0m\u001b[1;33m.\u001b[0m\u001b[0mtoarray\u001b[0m\u001b[1;33m(\u001b[0m\u001b[1;33m)\u001b[0m\u001b[1;33m\u001b[0m\u001b[1;33m\u001b[0m\u001b[0m\n\u001b[0;32m    195\u001b[0m \u001b[1;33m\u001b[0m\u001b[0m\n\u001b[1;32m--> 196\u001b[1;33m                 \u001b[0mouts\u001b[0m \u001b[1;33m=\u001b[0m \u001b[0mfit_function\u001b[0m\u001b[1;33m(\u001b[0m\u001b[0mins_batch\u001b[0m\u001b[1;33m)\u001b[0m\u001b[1;33m\u001b[0m\u001b[1;33m\u001b[0m\u001b[0m\n\u001b[0m\u001b[0;32m    197\u001b[0m                 \u001b[0mouts\u001b[0m \u001b[1;33m=\u001b[0m \u001b[0mto_list\u001b[0m\u001b[1;33m(\u001b[0m\u001b[0mouts\u001b[0m\u001b[1;33m)\u001b[0m\u001b[1;33m\u001b[0m\u001b[1;33m\u001b[0m\u001b[0m\n\u001b[0;32m    198\u001b[0m                 \u001b[1;32mfor\u001b[0m \u001b[0ml\u001b[0m\u001b[1;33m,\u001b[0m \u001b[0mo\u001b[0m \u001b[1;32min\u001b[0m \u001b[0mzip\u001b[0m\u001b[1;33m(\u001b[0m\u001b[0mout_labels\u001b[0m\u001b[1;33m,\u001b[0m \u001b[0mouts\u001b[0m\u001b[1;33m)\u001b[0m\u001b[1;33m:\u001b[0m\u001b[1;33m\u001b[0m\u001b[1;33m\u001b[0m\u001b[0m\n",
      "\u001b[1;32mc:\\users\\user\\anaconda3\\envs\\tf\\lib\\site-packages\\tensorflow_core\\python\\keras\\backend.py\u001b[0m in \u001b[0;36m__call__\u001b[1;34m(self, inputs)\u001b[0m\n\u001b[0;32m   3725\u001b[0m         \u001b[0mvalue\u001b[0m \u001b[1;33m=\u001b[0m \u001b[0mmath_ops\u001b[0m\u001b[1;33m.\u001b[0m\u001b[0mcast\u001b[0m\u001b[1;33m(\u001b[0m\u001b[0mvalue\u001b[0m\u001b[1;33m,\u001b[0m \u001b[0mtensor\u001b[0m\u001b[1;33m.\u001b[0m\u001b[0mdtype\u001b[0m\u001b[1;33m)\u001b[0m\u001b[1;33m\u001b[0m\u001b[1;33m\u001b[0m\u001b[0m\n\u001b[0;32m   3726\u001b[0m       \u001b[0mconverted_inputs\u001b[0m\u001b[1;33m.\u001b[0m\u001b[0mappend\u001b[0m\u001b[1;33m(\u001b[0m\u001b[0mvalue\u001b[0m\u001b[1;33m)\u001b[0m\u001b[1;33m\u001b[0m\u001b[1;33m\u001b[0m\u001b[0m\n\u001b[1;32m-> 3727\u001b[1;33m     \u001b[0moutputs\u001b[0m \u001b[1;33m=\u001b[0m \u001b[0mself\u001b[0m\u001b[1;33m.\u001b[0m\u001b[0m_graph_fn\u001b[0m\u001b[1;33m(\u001b[0m\u001b[1;33m*\u001b[0m\u001b[0mconverted_inputs\u001b[0m\u001b[1;33m)\u001b[0m\u001b[1;33m\u001b[0m\u001b[1;33m\u001b[0m\u001b[0m\n\u001b[0m\u001b[0;32m   3728\u001b[0m \u001b[1;33m\u001b[0m\u001b[0m\n\u001b[0;32m   3729\u001b[0m     \u001b[1;31m# EagerTensor.numpy() will often make a copy to ensure memory safety.\u001b[0m\u001b[1;33m\u001b[0m\u001b[1;33m\u001b[0m\u001b[1;33m\u001b[0m\u001b[0m\n",
      "\u001b[1;32mc:\\users\\user\\anaconda3\\envs\\tf\\lib\\site-packages\\tensorflow_core\\python\\eager\\function.py\u001b[0m in \u001b[0;36m__call__\u001b[1;34m(self, *args, **kwargs)\u001b[0m\n\u001b[0;32m   1549\u001b[0m       \u001b[0mTypeError\u001b[0m\u001b[1;33m:\u001b[0m \u001b[0mFor\u001b[0m \u001b[0minvalid\u001b[0m \u001b[0mpositional\u001b[0m\u001b[1;33m/\u001b[0m\u001b[0mkeyword\u001b[0m \u001b[0margument\u001b[0m \u001b[0mcombinations\u001b[0m\u001b[1;33m.\u001b[0m\u001b[1;33m\u001b[0m\u001b[1;33m\u001b[0m\u001b[0m\n\u001b[0;32m   1550\u001b[0m     \"\"\"\n\u001b[1;32m-> 1551\u001b[1;33m     \u001b[1;32mreturn\u001b[0m \u001b[0mself\u001b[0m\u001b[1;33m.\u001b[0m\u001b[0m_call_impl\u001b[0m\u001b[1;33m(\u001b[0m\u001b[0margs\u001b[0m\u001b[1;33m,\u001b[0m \u001b[0mkwargs\u001b[0m\u001b[1;33m)\u001b[0m\u001b[1;33m\u001b[0m\u001b[1;33m\u001b[0m\u001b[0m\n\u001b[0m\u001b[0;32m   1552\u001b[0m \u001b[1;33m\u001b[0m\u001b[0m\n\u001b[0;32m   1553\u001b[0m   \u001b[1;32mdef\u001b[0m \u001b[0m_call_impl\u001b[0m\u001b[1;33m(\u001b[0m\u001b[0mself\u001b[0m\u001b[1;33m,\u001b[0m \u001b[0margs\u001b[0m\u001b[1;33m,\u001b[0m \u001b[0mkwargs\u001b[0m\u001b[1;33m,\u001b[0m \u001b[0mcancellation_manager\u001b[0m\u001b[1;33m=\u001b[0m\u001b[1;32mNone\u001b[0m\u001b[1;33m)\u001b[0m\u001b[1;33m:\u001b[0m\u001b[1;33m\u001b[0m\u001b[1;33m\u001b[0m\u001b[0m\n",
      "\u001b[1;32mc:\\users\\user\\anaconda3\\envs\\tf\\lib\\site-packages\\tensorflow_core\\python\\eager\\function.py\u001b[0m in \u001b[0;36m_call_impl\u001b[1;34m(self, args, kwargs, cancellation_manager)\u001b[0m\n\u001b[0;32m   1589\u001b[0m       raise TypeError(\"Keyword arguments {} unknown. Expected {}.\".format(\n\u001b[0;32m   1590\u001b[0m           list(kwargs.keys()), list(self._arg_keywords)))\n\u001b[1;32m-> 1591\u001b[1;33m     \u001b[1;32mreturn\u001b[0m \u001b[0mself\u001b[0m\u001b[1;33m.\u001b[0m\u001b[0m_call_flat\u001b[0m\u001b[1;33m(\u001b[0m\u001b[0margs\u001b[0m\u001b[1;33m,\u001b[0m \u001b[0mself\u001b[0m\u001b[1;33m.\u001b[0m\u001b[0mcaptured_inputs\u001b[0m\u001b[1;33m,\u001b[0m \u001b[0mcancellation_manager\u001b[0m\u001b[1;33m)\u001b[0m\u001b[1;33m\u001b[0m\u001b[1;33m\u001b[0m\u001b[0m\n\u001b[0m\u001b[0;32m   1592\u001b[0m \u001b[1;33m\u001b[0m\u001b[0m\n\u001b[0;32m   1593\u001b[0m   \u001b[1;32mdef\u001b[0m \u001b[0m_filtered_call\u001b[0m\u001b[1;33m(\u001b[0m\u001b[0mself\u001b[0m\u001b[1;33m,\u001b[0m \u001b[0margs\u001b[0m\u001b[1;33m,\u001b[0m \u001b[0mkwargs\u001b[0m\u001b[1;33m)\u001b[0m\u001b[1;33m:\u001b[0m\u001b[1;33m\u001b[0m\u001b[1;33m\u001b[0m\u001b[0m\n",
      "\u001b[1;32mc:\\users\\user\\anaconda3\\envs\\tf\\lib\\site-packages\\tensorflow_core\\python\\eager\\function.py\u001b[0m in \u001b[0;36m_call_flat\u001b[1;34m(self, args, captured_inputs, cancellation_manager)\u001b[0m\n\u001b[0;32m   1690\u001b[0m       \u001b[1;31m# No tape is watching; skip to running the function.\u001b[0m\u001b[1;33m\u001b[0m\u001b[1;33m\u001b[0m\u001b[1;33m\u001b[0m\u001b[0m\n\u001b[0;32m   1691\u001b[0m       return self._build_call_outputs(self._inference_function.call(\n\u001b[1;32m-> 1692\u001b[1;33m           ctx, args, cancellation_manager=cancellation_manager))\n\u001b[0m\u001b[0;32m   1693\u001b[0m     forward_backward = self._select_forward_and_backward_functions(\n\u001b[0;32m   1694\u001b[0m         \u001b[0margs\u001b[0m\u001b[1;33m,\u001b[0m\u001b[1;33m\u001b[0m\u001b[1;33m\u001b[0m\u001b[0m\n",
      "\u001b[1;32mc:\\users\\user\\anaconda3\\envs\\tf\\lib\\site-packages\\tensorflow_core\\python\\eager\\function.py\u001b[0m in \u001b[0;36mcall\u001b[1;34m(self, ctx, args, cancellation_manager)\u001b[0m\n\u001b[0;32m    543\u001b[0m               \u001b[0minputs\u001b[0m\u001b[1;33m=\u001b[0m\u001b[0margs\u001b[0m\u001b[1;33m,\u001b[0m\u001b[1;33m\u001b[0m\u001b[1;33m\u001b[0m\u001b[0m\n\u001b[0;32m    544\u001b[0m               \u001b[0mattrs\u001b[0m\u001b[1;33m=\u001b[0m\u001b[1;33m(\u001b[0m\u001b[1;34m\"executor_type\"\u001b[0m\u001b[1;33m,\u001b[0m \u001b[0mexecutor_type\u001b[0m\u001b[1;33m,\u001b[0m \u001b[1;34m\"config_proto\"\u001b[0m\u001b[1;33m,\u001b[0m \u001b[0mconfig\u001b[0m\u001b[1;33m)\u001b[0m\u001b[1;33m,\u001b[0m\u001b[1;33m\u001b[0m\u001b[1;33m\u001b[0m\u001b[0m\n\u001b[1;32m--> 545\u001b[1;33m               ctx=ctx)\n\u001b[0m\u001b[0;32m    546\u001b[0m         \u001b[1;32melse\u001b[0m\u001b[1;33m:\u001b[0m\u001b[1;33m\u001b[0m\u001b[1;33m\u001b[0m\u001b[0m\n\u001b[0;32m    547\u001b[0m           outputs = execute.execute_with_cancellation(\n",
      "\u001b[1;32mc:\\users\\user\\anaconda3\\envs\\tf\\lib\\site-packages\\tensorflow_core\\python\\eager\\execute.py\u001b[0m in \u001b[0;36mquick_execute\u001b[1;34m(op_name, num_outputs, inputs, attrs, ctx, name)\u001b[0m\n\u001b[0;32m     59\u001b[0m     tensors = pywrap_tensorflow.TFE_Py_Execute(ctx._handle, device_name,\n\u001b[0;32m     60\u001b[0m                                                \u001b[0mop_name\u001b[0m\u001b[1;33m,\u001b[0m \u001b[0minputs\u001b[0m\u001b[1;33m,\u001b[0m \u001b[0mattrs\u001b[0m\u001b[1;33m,\u001b[0m\u001b[1;33m\u001b[0m\u001b[1;33m\u001b[0m\u001b[0m\n\u001b[1;32m---> 61\u001b[1;33m                                                num_outputs)\n\u001b[0m\u001b[0;32m     62\u001b[0m   \u001b[1;32mexcept\u001b[0m \u001b[0mcore\u001b[0m\u001b[1;33m.\u001b[0m\u001b[0m_NotOkStatusException\u001b[0m \u001b[1;32mas\u001b[0m \u001b[0me\u001b[0m\u001b[1;33m:\u001b[0m\u001b[1;33m\u001b[0m\u001b[1;33m\u001b[0m\u001b[0m\n\u001b[0;32m     63\u001b[0m     \u001b[1;32mif\u001b[0m \u001b[0mname\u001b[0m \u001b[1;32mis\u001b[0m \u001b[1;32mnot\u001b[0m \u001b[1;32mNone\u001b[0m\u001b[1;33m:\u001b[0m\u001b[1;33m\u001b[0m\u001b[1;33m\u001b[0m\u001b[0m\n",
      "\u001b[1;31mKeyboardInterrupt\u001b[0m: "
     ]
    }
   ],
   "source": [
    "#Compiling and training the model\n",
    "model.compile(optimizer=Adam(lr=0.01, beta_1=0.9, beta_2=0.999, decay=0.001), loss='categorical_crossentropy')\n",
    "\n",
    "model.fit([encoder_in_data, decoder_in_data], decoder_target_data, batch_size = batch_size, epochs=10, validation_split=0.2)"
   ]
  },
  {
   "cell_type": "code",
   "execution_count": null,
   "metadata": {},
   "outputs": [],
   "source": [
    "#Define sampling models\n",
    "encoder_model = Model(encoder_inputs, encoder_states)\n",
    "decoder_state_input_h = Input(shape=(latent_dim,))\n",
    "decoder_state_input_c = Input(shape=(latent_dim,))\n",
    "decoder_states_inputs = [decoder_state_input_h, decoder_state_input_c]\n",
    "decoder_outputs, state_h, state_c = decoder_lstm(decoder_inputs, initial_state=decoder_states_inputs)\n",
    "decoder_states = [state_h, state_c]\n",
    "decoder_outputs = decoder_dense(decoder_outputs)\n",
    "decoder_model = Model([decoder_inputs] + decoder_states_inputs, [decoder_outputs] + decoder_states)"
   ]
  },
  {
   "cell_type": "code",
   "execution_count": null,
   "metadata": {},
   "outputs": [],
   "source": [
    "reverse_input_char_index = dict((i, char) for char, i in input_token_id.items())\n",
    "reverse_target_char_index = dict((i, char) for char, i in target_token_id.items())\n",
    "\n",
    "#Define Decode Sequence\n",
    "def decode_sequence(input_seq):\n",
    "    #Encode the input as state vectors.\n",
    "    states_value = encoder_model.predict(input_seq)\n",
    "\n",
    "    #Generate empty target sequence of length 1.\n",
    "    target_seq = np.zeros((1, 1, num_decoder_tokens))\n",
    "    #Get the first character of target sequence with the start character.\n",
    "    target_seq[0, 0, target_token_id['\\t']] = 1.\n",
    "\n",
    "    #Sampling loop for a batch of sequences\n",
    "    #(to simplify, here we assume a batch of size 1).\n",
    "    stop_condition = False\n",
    "    decoded_sentence = ''\n",
    "    while not stop_condition:\n",
    "        output_tokens, h, c = decoder_model.predict([target_seq] + states_value)\n",
    "\n",
    "        #Sample a token\n",
    "        sampled_token_index = np.argmax(output_tokens[0, -1, :])\n",
    "        sampled_char = reverse_target_char_index[sampled_token_index]\n",
    "        decoded_sentence += sampled_char\n",
    "\n",
    "        #Exit condition: either hit max length\n",
    "        #or find stop character.\n",
    "        if (sampled_char == '\\n' or\n",
    "           len(decoded_sentence) > max_decoder_seq_length):\n",
    "            stop_condition = True\n",
    "\n",
    "        #Update the target sequence (of length 1).\n",
    "        target_seq = np.zeros((1, 1, num_decoder_tokens))\n",
    "        target_seq[0, 0, sampled_token_index] = 1.\n",
    "\n",
    "        #Update states\n",
    "        states_value = [h, c]\n",
    "\n",
    "    return decoded_sentence"
   ]
  },
  {
   "cell_type": "code",
   "execution_count": null,
   "metadata": {},
   "outputs": [],
   "source": [
    "for seq_index in range(20):\n",
    "    input_seq = encoder_in_data[seq_index: seq_index + 1]\n",
    "    decoded_sentence = decode_sequence(input_seq)\n",
    "    print('-')\n",
    "    print('Input sentence:', input_texts[seq_index])\n",
    "    print('Decoded sentence:', decoded_sentence)"
   ]
  },
  {
   "cell_type": "code",
   "execution_count": null,
   "metadata": {},
   "outputs": [],
   "source": []
  },
  {
   "cell_type": "code",
   "execution_count": null,
   "metadata": {},
   "outputs": [],
   "source": []
  }
 ],
 "metadata": {
  "kernelspec": {
   "display_name": "Python 3",
   "language": "python",
   "name": "python3"
  },
  "language_info": {
   "codemirror_mode": {
    "name": "ipython",
    "version": 3
   },
   "file_extension": ".py",
   "mimetype": "text/x-python",
   "name": "python",
   "nbconvert_exporter": "python",
   "pygments_lexer": "ipython3",
   "version": "3.7.9"
  }
 },
 "nbformat": 4,
 "nbformat_minor": 4
}
